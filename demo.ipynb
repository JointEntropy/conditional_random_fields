{
 "cells": [
  {
   "cell_type": "code",
   "execution_count": 1,
   "id": "bd025cbe",
   "metadata": {},
   "outputs": [],
   "source": [
    "%load_ext autoreload\n",
    "%autoreload 2"
   ]
  },
  {
   "cell_type": "markdown",
   "id": "db30ef0d",
   "metadata": {},
   "source": [
    "https://webstruct.readthedocs.io/en/latest/tutorial.html"
   ]
  },
  {
   "cell_type": "code",
   "execution_count": null,
   "id": "550ad351",
   "metadata": {},
   "outputs": [],
   "source": []
  },
  {
   "cell_type": "code",
   "execution_count": 2,
   "id": "11c5b1de",
   "metadata": {},
   "outputs": [],
   "source": [
    "!pip install webstruct >/dev/null\n",
    "!pip install lxml >/dev/null\n",
    "!pip install scikit-learn >/dev/null\n"
   ]
  },
  {
   "cell_type": "code",
   "execution_count": null,
   "id": "2d2d7bcb",
   "metadata": {},
   "outputs": [],
   "source": [
    "import webstruct\n",
    "trees = webstruct.load_trees(\"train/*.html\", webstruct.WebAnnotatorLoader())"
   ]
  },
  {
   "cell_type": "code",
   "execution_count": null,
   "id": "72f498c5",
   "metadata": {},
   "outputs": [],
   "source": [
    "list(trees)"
   ]
  },
  {
   "cell_type": "code",
   "execution_count": null,
   "id": "0b654d88",
   "metadata": {},
   "outputs": [],
   "source": [
    "html_tokenizer = webstruct.HtmlTokenizer()\n",
    "X, y = html_tokenizer.tokenize(trees)\n",
    "\n",
    "def token_identity(html_token):\n",
    "    return {'token': html_token.token}\n",
    "\n",
    "def token_isupper(html_token):\n",
    "    return {'isupper': html_token.token.isupper()}\n",
    "\n",
    "def parent_tag(html_token):\n",
    "    return {'parent_tag': html_token.parent.tag}\n",
    "\n",
    "def border_at_left(html_token):\n",
    "    return {'border_at_left': html_token.index == 0}\n",
    "\n",
    "from webstruct.feature_extraction import HtmlFeatureExtractor\n",
    "feature_extractor = HtmlFeatureExtractor(\n",
    "    token_features = [\n",
    "        token_identity,\n",
    "        token_isupper,\n",
    "        parent_tag,\n",
    "        border_at_left\n",
    "    ]\n",
    ")"
   ]
  },
  {
   "cell_type": "code",
   "execution_count": null,
   "id": "258c24ac",
   "metadata": {},
   "outputs": [],
   "source": [
    "features = feature_extractor.fit_transform(X)"
   ]
  },
  {
   "cell_type": "code",
   "execution_count": null,
   "id": "fcbf07bd",
   "metadata": {},
   "outputs": [],
   "source": []
  },
  {
   "cell_type": "markdown",
   "id": "ab46276f",
   "metadata": {},
   "source": [
    "## named entity extraction\n",
    "\n",
    "https://www.kdnuggets.com/2018/10/named-entity-recognition-classification-scikit-learn.html/2"
   ]
  },
  {
   "cell_type": "code",
   "execution_count": null,
   "id": "30253ae5",
   "metadata": {},
   "outputs": [],
   "source": [
    "# https://stackoverflow.com/questions/66059532/attributeerror-crf-object-has-no-attribute-keep-tempfiles"
   ]
  },
  {
   "cell_type": "code",
   "execution_count": 1,
   "id": "169fb5b7",
   "metadata": {},
   "outputs": [
    {
     "name": "stdout",
     "output_type": "stream",
     "text": [
      "Requirement already satisfied: scikit-learn==0.23.1 in /home/grigory/anaconda3/envs/crf/lib/python3.8/site-packages (0.23.1)\n",
      "Requirement already satisfied: scipy>=0.19.1 in /home/grigory/anaconda3/envs/crf/lib/python3.8/site-packages (from scikit-learn==0.23.1) (1.6.3)\n",
      "Requirement already satisfied: threadpoolctl>=2.0.0 in /home/grigory/anaconda3/envs/crf/lib/python3.8/site-packages (from scikit-learn==0.23.1) (2.1.0)\n",
      "Requirement already satisfied: joblib>=0.11 in /home/grigory/anaconda3/envs/crf/lib/python3.8/site-packages (from scikit-learn==0.23.1) (1.0.1)\n",
      "Requirement already satisfied: numpy>=1.13.3 in /home/grigory/anaconda3/envs/crf/lib/python3.8/site-packages (from scikit-learn==0.23.1) (1.20.3)\n",
      "Requirement already satisfied: pandas in /home/grigory/anaconda3/envs/crf/lib/python3.8/site-packages (1.2.4)\n",
      "Requirement already satisfied: numpy>=1.16.5 in /home/grigory/anaconda3/envs/crf/lib/python3.8/site-packages (from pandas) (1.20.3)\n",
      "Requirement already satisfied: pytz>=2017.3 in /home/grigory/anaconda3/envs/crf/lib/python3.8/site-packages (from pandas) (2021.1)\n",
      "Requirement already satisfied: python-dateutil>=2.7.3 in /home/grigory/anaconda3/envs/crf/lib/python3.8/site-packages (from pandas) (2.8.1)\n",
      "Requirement already satisfied: six>=1.5 in /home/grigory/anaconda3/envs/crf/lib/python3.8/site-packages (from python-dateutil>=2.7.3->pandas) (1.15.0)\n"
     ]
    }
   ],
   "source": [
    "!pip install scikit-learn==0.23.1\n",
    "!pip install pandas\n",
    "!pip install sklearn_crfsuite >/dev/null"
   ]
  },
  {
   "cell_type": "code",
   "execution_count": 2,
   "id": "a2da9b2a",
   "metadata": {},
   "outputs": [],
   "source": [
    "import sklearn_crfsuite\n",
    "from sklearn_crfsuite import scorers\n",
    "from sklearn_crfsuite import metrics\n",
    "from collections import Counter\n",
    "import pandas as pd\n",
    "from sklearn.model_selection import train_test_split"
   ]
  },
  {
   "cell_type": "code",
   "execution_count": 3,
   "id": "6587a1d1",
   "metadata": {},
   "outputs": [
    {
     "data": {
      "text/html": [
       "<div>\n",
       "<style scoped>\n",
       "    .dataframe tbody tr th:only-of-type {\n",
       "        vertical-align: middle;\n",
       "    }\n",
       "\n",
       "    .dataframe tbody tr th {\n",
       "        vertical-align: top;\n",
       "    }\n",
       "\n",
       "    .dataframe thead th {\n",
       "        text-align: right;\n",
       "    }\n",
       "</style>\n",
       "<table border=\"1\" class=\"dataframe\">\n",
       "  <thead>\n",
       "    <tr style=\"text-align: right;\">\n",
       "      <th></th>\n",
       "      <th>Sentence #</th>\n",
       "      <th>Word</th>\n",
       "      <th>POS</th>\n",
       "      <th>Tag</th>\n",
       "    </tr>\n",
       "  </thead>\n",
       "  <tbody>\n",
       "    <tr>\n",
       "      <th>0</th>\n",
       "      <td>Sentence: 1</td>\n",
       "      <td>Thousands</td>\n",
       "      <td>NNS</td>\n",
       "      <td>O</td>\n",
       "    </tr>\n",
       "    <tr>\n",
       "      <th>1</th>\n",
       "      <td>NaN</td>\n",
       "      <td>of</td>\n",
       "      <td>IN</td>\n",
       "      <td>O</td>\n",
       "    </tr>\n",
       "    <tr>\n",
       "      <th>2</th>\n",
       "      <td>NaN</td>\n",
       "      <td>demonstrators</td>\n",
       "      <td>NNS</td>\n",
       "      <td>O</td>\n",
       "    </tr>\n",
       "    <tr>\n",
       "      <th>3</th>\n",
       "      <td>NaN</td>\n",
       "      <td>have</td>\n",
       "      <td>VBP</td>\n",
       "      <td>O</td>\n",
       "    </tr>\n",
       "    <tr>\n",
       "      <th>4</th>\n",
       "      <td>NaN</td>\n",
       "      <td>marched</td>\n",
       "      <td>VBN</td>\n",
       "      <td>O</td>\n",
       "    </tr>\n",
       "  </tbody>\n",
       "</table>\n",
       "</div>"
      ],
      "text/plain": [
       "    Sentence #           Word  POS Tag\n",
       "0  Sentence: 1      Thousands  NNS   O\n",
       "1          NaN             of   IN   O\n",
       "2          NaN  demonstrators  NNS   O\n",
       "3          NaN           have  VBP   O\n",
       "4          NaN        marched  VBN   O"
      ]
     },
     "execution_count": 3,
     "metadata": {},
     "output_type": "execute_result"
    }
   ],
   "source": [
    "df = pd.read_csv('./data/ner_dataset.csv', encoding = \"ISO-8859-1\")\n",
    "df = df[:100000]\n",
    "df.head()"
   ]
  },
  {
   "cell_type": "code",
   "execution_count": 4,
   "id": "c7fe3110",
   "metadata": {},
   "outputs": [],
   "source": [
    "class SentenceGetter(object):\n",
    "    \n",
    "    def __init__(self, data):\n",
    "        self.n_sent = 1\n",
    "        self.data = data\n",
    "        self.empty = False\n",
    "        agg_func = lambda s: [(w, p, t) for w, p, t in zip(s['Word'].values.tolist(), \n",
    "                                                           s['POS'].values.tolist(), \n",
    "                                                           s['Tag'].values.tolist())]\n",
    "        self.grouped = self.data.groupby('Sentence #').apply(agg_func)\n",
    "        self.sentences = [s for s in self.grouped]\n",
    "        \n",
    "    def get_next(self):\n",
    "        try: \n",
    "            s = self.grouped['Sentence: {}'.format(self.n_sent)]\n",
    "            self.n_sent += 1\n",
    "            return s \n",
    "        except:\n",
    "            return None\n",
    "\n",
    "getter = SentenceGetter(df)\n",
    "sentences = getter.sentences"
   ]
  },
  {
   "cell_type": "code",
   "execution_count": 5,
   "id": "c6545729",
   "metadata": {},
   "outputs": [],
   "source": [
    "def word2features(sent, i):\n",
    "    word = sent[i][0]\n",
    "    postag = sent[i][1]\n",
    "    \n",
    "    features = {\n",
    "        'bias': 1.0, \n",
    "        'word.lower()': word.lower(), \n",
    "        'word[-3:]': word[-3:],\n",
    "        'word[-2:]': word[-2:],\n",
    "        'word.isupper()': word.isupper(),\n",
    "        'word.istitle()': word.istitle(),\n",
    "        'word.isdigit()': word.isdigit(),\n",
    "        'postag': postag,\n",
    "        'postag[:2]': postag[:2],\n",
    "    }\n",
    "    if i > 0:\n",
    "        word1 = sent[i-1][0]\n",
    "        postag1 = sent[i-1][1]\n",
    "        features.update({\n",
    "            '-1:word.lower()': word1.lower(),\n",
    "            '-1:word.istitle()': word1.istitle(),\n",
    "            '-1:word.isupper()': word1.isupper(),\n",
    "            '-1:postag': postag1,\n",
    "            '-1:postag[:2]': postag1[:2],\n",
    "        })\n",
    "    else:\n",
    "        features['BOS'] = True\n",
    "    if i < len(sent)-1:\n",
    "        word1 = sent[i+1][0]\n",
    "        postag1 = sent[i+1][1]\n",
    "        features.update({\n",
    "            '+1:word.lower()': word1.lower(),\n",
    "            '+1:word.istitle()': word1.istitle(),\n",
    "            '+1:word.isupper()': word1.isupper(),\n",
    "            '+1:postag': postag1,\n",
    "            '+1:postag[:2]': postag1[:2],\n",
    "        })\n",
    "    else:\n",
    "        features['EOS'] = True\n",
    "\n",
    "    return features\n",
    "\n",
    "def sent2features(sent):\n",
    "    return [word2features(sent, i) for i in range(len(sent))]\n",
    "\n",
    "def sent2labels(sent):\n",
    "    return [label for token, postag, label in sent]\n",
    "\n",
    "def sent2tokens(sent):\n",
    "    return [token for token, postag, label in sent]"
   ]
  },
  {
   "cell_type": "code",
   "execution_count": 6,
   "id": "b7d5b52e",
   "metadata": {},
   "outputs": [],
   "source": [
    "X = [sent2features(s) for s in sentences]\n",
    "y = [sent2labels(s) for s in sentences]\n",
    "X_train, X_test, y_train, y_test = train_test_split(X, y, test_size=0.33, random_state=0)"
   ]
  },
  {
   "cell_type": "code",
   "execution_count": 18,
   "id": "769d927e",
   "metadata": {},
   "outputs": [
    {
     "name": "stderr",
     "output_type": "stream",
     "text": [
      "/home/grigory/anaconda3/envs/crf/lib/python3.8/site-packages/sklearn/base.py:209: FutureWarning: From version 0.24, get_params will raise an AttributeError if a parameter cannot be retrieved as an instance attribute. Previously it would return None.\n",
      "  warnings.warn('From version 0.24, get_params will raise an '\n"
     ]
    },
    {
     "data": {
      "text/plain": [
       "CRF(algorithm='lbfgs', all_possible_transitions=True, c1=0.1, c2=0.1,\n",
       "    keep_tempfiles=None, max_iterations=100)"
      ]
     },
     "execution_count": 18,
     "metadata": {},
     "output_type": "execute_result"
    }
   ],
   "source": [
    "crf = sklearn_crfsuite.CRF(\n",
    "    algorithm='lbfgs',\n",
    "    c1=0.1,\n",
    "    c2=0.1,\n",
    "    max_iterations=100,\n",
    "    all_possible_transitions=True\n",
    ")\n",
    "crf.fit(X_train, y_train)"
   ]
  },
  {
   "cell_type": "code",
   "execution_count": 26,
   "id": "5b026723",
   "metadata": {},
   "outputs": [
    {
     "name": "stderr",
     "output_type": "stream",
     "text": [
      "/home/grigory/anaconda3/envs/crf/lib/python3.8/site-packages/sklearn/base.py:209: FutureWarning: From version 0.24, get_params will raise an AttributeError if a parameter cannot be retrieved as an instance attribute. Previously it would return None.\n",
      "  warnings.warn('From version 0.24, get_params will raise an '\n"
     ]
    },
    {
     "data": {
      "text/plain": [
       "CRF(algorithm='lbfgs', all_possible_transitions=True, c1=0.1, c2=0.1,\n",
       "    keep_tempfiles=None, max_iterations=100)"
      ]
     },
     "execution_count": 26,
     "metadata": {},
     "output_type": "execute_result"
    }
   ],
   "source": [
    "X_train = [\n",
    "    [dict(a=1,b=4)],\n",
    "    [dict(a=2,b=3)],\n",
    "    [dict(a=1,b=3)],\n",
    "    [dict(a=1,b=2)]\n",
    "]\n",
    "y_train = [\n",
    "    ['a'], ['b'], ['a'], ['a']\n",
    "]\n",
    "crf = sklearn_crfsuite.CRF(\n",
    "    algorithm='lbfgs',\n",
    "    c1=0.1,\n",
    "    c2=0.1,\n",
    "    max_iterations=100,\n",
    "    all_possible_transitions=True\n",
    ")\n",
    "crf.fit(X_train, y_train)"
   ]
  },
  {
   "cell_type": "code",
   "execution_count": 30,
   "id": "aa1ad20c",
   "metadata": {},
   "outputs": [
    {
     "data": {
      "text/plain": [
       "[['a'], ['b'], ['a'], ['b'], ['a']]"
      ]
     },
     "execution_count": 30,
     "metadata": {},
     "output_type": "execute_result"
    }
   ],
   "source": [
    "X_val = [\n",
    "    [dict(a=1,b=4)],\n",
    "    [dict(a=2,b=3)],\n",
    "    [dict(a=-1,b=3)],\n",
    "    [dict(a=500,b=3)],\n",
    "    [dict(a=1,b=20)],\n",
    "]\n",
    "y_val = [\n",
    "    ['a'], ['b'], ['a'], ['a']\n",
    "]\n",
    "\n",
    "crf.predict(X_val)"
   ]
  },
  {
   "cell_type": "code",
   "execution_count": null,
   "id": "e3823e4e",
   "metadata": {},
   "outputs": [],
   "source": []
  },
  {
   "cell_type": "code",
   "execution_count": 23,
   "id": "488a8abf",
   "metadata": {},
   "outputs": [
    {
     "data": {
      "text/plain": [
       "{}"
      ]
     },
     "execution_count": 23,
     "metadata": {},
     "output_type": "execute_result"
    }
   ],
   "source": [
    "crf.transition_features_"
   ]
  },
  {
   "cell_type": "code",
   "execution_count": 20,
   "id": "4f9c2164",
   "metadata": {},
   "outputs": [
    {
     "name": "stdout",
     "output_type": "stream",
     "text": [
      "Top likely transitions:\n",
      "\n",
      "Top unlikely transitions:\n"
     ]
    }
   ],
   "source": [
    "def print_transitions(trans_features):\n",
    "    for (label_from, label_to), weight in trans_features:\n",
    "        print(\"%-6s -> %-7s %0.6f\" % (label_from, label_to, weight))\n",
    "\n",
    "print(\"Top likely transitions:\")\n",
    "print_transitions(Counter(crf.transition_features_).most_common(20))\n",
    "\n",
    "print(\"\\nTop unlikely transitions:\")\n",
    "print_transitions(Counter(crf.transition_features_).most_common()[-20:])"
   ]
  },
  {
   "cell_type": "markdown",
   "id": "8d2cfb9c",
   "metadata": {},
   "source": [
    "https://sklearn-crfsuite.readthedocs.io/en/latest/tutorial.html#let-s-use-conll-2002-data-to-build-a-ner-system"
   ]
  },
  {
   "cell_type": "code",
   "execution_count": null,
   "id": "b926874d",
   "metadata": {},
   "outputs": [],
   "source": []
  },
  {
   "cell_type": "code",
   "execution_count": null,
   "id": "325164dc",
   "metadata": {},
   "outputs": [],
   "source": []
  },
  {
   "cell_type": "code",
   "execution_count": null,
   "id": "eb97524e",
   "metadata": {},
   "outputs": [],
   "source": []
  },
  {
   "cell_type": "code",
   "execution_count": null,
   "id": "f192eb0a",
   "metadata": {},
   "outputs": [],
   "source": []
  },
  {
   "cell_type": "markdown",
   "id": "02a60e81",
   "metadata": {},
   "source": [
    "### Py depta(Update не получается поставить из за scrapely и gcc error которая не гуглитс)"
   ]
  },
  {
   "cell_type": "code",
   "execution_count": null,
   "id": "e22a2932",
   "metadata": {},
   "outputs": [],
   "source": [
    "# !sudo apt-get install python-dev"
   ]
  },
  {
   "cell_type": "code",
   "execution_count": null,
   "id": "569d8107",
   "metadata": {},
   "outputs": [],
   "source": [
    "# !sudo apt-get install -y libxml2-dev libxslt1-dev"
   ]
  },
  {
   "cell_type": "code",
   "execution_count": 1,
   "id": "543dedfa",
   "metadata": {},
   "outputs": [],
   "source": [
    "# !pip3 install scrapely"
   ]
  },
  {
   "cell_type": "code",
   "execution_count": 8,
   "id": "a5a9c59f",
   "metadata": {
    "scrolled": true
   },
   "outputs": [
    {
     "name": "stdout",
     "output_type": "stream",
     "text": [
      "Looking in indexes: https://pypi.anaconda.org/scrapinghub/label/dev/simple\n",
      "Collecting pydepta\n",
      "  Downloading https://pypi.anaconda.org/scrapinghub/label/dev/simple/pydepta/0.2.1a0/pydepta-0.2.1a0.tar.gz (134 kB)\n",
      "\u001b[K     |████████████████████████████████| 134 kB 282 kB/s eta 0:00:01\n",
      "\u001b[?25hRequirement already satisfied: lxml in /home/grigory/anaconda3/envs/crf37/lib/python3.7/site-packages (from pydepta) (4.6.3)\n",
      "Requirement already satisfied: scrapely in /home/grigory/anaconda3/envs/crf37/lib/python3.7/site-packages (from pydepta) (0.14.1)\n",
      "Requirement already satisfied: w3lib in /home/grigory/anaconda3/envs/crf37/lib/python3.7/site-packages (from pydepta) (1.22.0)\n",
      "Requirement already satisfied: requests in /home/grigory/anaconda3/envs/crf37/lib/python3.7/site-packages (from pydepta) (2.25.1)\n",
      "Requirement already satisfied: six in /home/grigory/anaconda3/envs/crf37/lib/python3.7/site-packages (from pydepta) (1.16.0)\n",
      "Requirement already satisfied: chardet<5,>=3.0.2 in /home/grigory/anaconda3/envs/crf37/lib/python3.7/site-packages (from requests->pydepta) (4.0.0)\n",
      "Requirement already satisfied: idna<3,>=2.5 in /home/grigory/anaconda3/envs/crf37/lib/python3.7/site-packages (from requests->pydepta) (2.10)\n",
      "Requirement already satisfied: urllib3<1.27,>=1.21.1 in /home/grigory/anaconda3/envs/crf37/lib/python3.7/site-packages (from requests->pydepta) (1.26.5)\n",
      "Requirement already satisfied: certifi>=2017.4.17 in /home/grigory/anaconda3/envs/crf37/lib/python3.7/site-packages (from requests->pydepta) (2020.12.5)\n",
      "Requirement already satisfied: numpy in /home/grigory/anaconda3/envs/crf37/lib/python3.7/site-packages (from scrapely->pydepta) (1.20.3)\n",
      "Building wheels for collected packages: pydepta\n",
      "  Building wheel for pydepta (setup.py) ... \u001b[?25ldone\n",
      "\u001b[?25h  Created wheel for pydepta: filename=pydepta-0.2.1a0-cp37-cp37m-linux_x86_64.whl size=88462 sha256=27132a46f042dd91cff32ab95c36ec98710303a50bf6d2c138a695def7c97d34\n",
      "  Stored in directory: /home/grigory/.cache/pip/wheels/e8/f5/61/d09995d890968352dfbd68f59992ed65dd6a05992cea1415e6\n",
      "Successfully built pydepta\n",
      "Installing collected packages: pydepta\n",
      "Successfully installed pydepta-0.2.1a0\n",
      "Collecting git+https://github.com/scrapinghub/pydepta.git\n",
      "  Cloning https://github.com/scrapinghub/pydepta.git to /tmp/pip-req-build-rmcw9c0p\n",
      "  Running command git clone -q https://github.com/scrapinghub/pydepta.git /tmp/pip-req-build-rmcw9c0p\n",
      "Requirement already satisfied: w3lib in /home/grigory/anaconda3/envs/crf37/lib/python3.7/site-packages (from pydepta==0.2) (1.22.0)\n",
      "Requirement already satisfied: scrapely in /home/grigory/anaconda3/envs/crf37/lib/python3.7/site-packages (from pydepta==0.2) (0.14.1)\n",
      "Requirement already satisfied: numpy in /home/grigory/anaconda3/envs/crf37/lib/python3.7/site-packages (from scrapely->pydepta==0.2) (1.20.3)\n",
      "Requirement already satisfied: six in /home/grigory/anaconda3/envs/crf37/lib/python3.7/site-packages (from scrapely->pydepta==0.2) (1.16.0)\n",
      "Building wheels for collected packages: pydepta\n",
      "  Building wheel for pydepta (setup.py) ... \u001b[?25ldone\n",
      "\u001b[?25h  Created wheel for pydepta: filename=pydepta-0.2-cp37-cp37m-linux_x86_64.whl size=71383 sha256=53fc2ac3a18c85c5bf9614bf82ec2b46bb265c5e138f79d25f827d817ff62da0\n",
      "  Stored in directory: /tmp/pip-ephem-wheel-cache-8tg_b1hf/wheels/dc/b9/19/457d10c1a6baa805b845d93375c47985e12e491266093fa501\n",
      "Successfully built pydepta\n",
      "Installing collected packages: pydepta\n",
      "  Attempting uninstall: pydepta\n",
      "    Found existing installation: pydepta 0.2.1a0\n",
      "    Uninstalling pydepta-0.2.1a0:\n",
      "      Successfully uninstalled pydepta-0.2.1a0\n",
      "Successfully installed pydepta-0.2\n"
     ]
    }
   ],
   "source": [
    "!pip install -i https://pypi.anaconda.org/scrapinghub/label/dev/simple pydepta\n",
    "!pip install git+https://github.com/scrapinghub/pydepta.git"
   ]
  },
  {
   "cell_type": "code",
   "execution_count": 12,
   "id": "1f88873f",
   "metadata": {},
   "outputs": [
    {
     "name": "stdout",
     "output_type": "stream",
     "text": [
      "Requirement already satisfied: pydepta in /home/grigory/anaconda3/envs/crf37/lib/python3.7/site-packages (0.2)\r\n",
      "Requirement already satisfied: scrapely in /home/grigory/anaconda3/envs/crf37/lib/python3.7/site-packages (from pydepta) (0.14.1)\r\n",
      "Requirement already satisfied: w3lib in /home/grigory/anaconda3/envs/crf37/lib/python3.7/site-packages (from pydepta) (1.22.0)\r\n",
      "Requirement already satisfied: numpy in /home/grigory/anaconda3/envs/crf37/lib/python3.7/site-packages (from scrapely->pydepta) (1.20.3)\r\n",
      "Requirement already satisfied: six in /home/grigory/anaconda3/envs/crf37/lib/python3.7/site-packages (from scrapely->pydepta) (1.16.0)\r\n"
     ]
    }
   ],
   "source": [
    "!pip install pydepta"
   ]
  },
  {
   "cell_type": "code",
   "execution_count": 14,
   "id": "754bc62d",
   "metadata": {},
   "outputs": [
    {
     "ename": "ModuleNotFoundError",
     "evalue": "No module named 'depta'",
     "output_type": "error",
     "traceback": [
      "\u001b[0;31m---------------------------------------------------------------------------\u001b[0m",
      "\u001b[0;31mModuleNotFoundError\u001b[0m                       Traceback (most recent call last)",
      "\u001b[0;32m<ipython-input-14-3b5d46c20f27>\u001b[0m in \u001b[0;36m<module>\u001b[0;34m\u001b[0m\n\u001b[0;32m----> 1\u001b[0;31m \u001b[0;32mfrom\u001b[0m \u001b[0mpydepta\u001b[0m \u001b[0;32mimport\u001b[0m \u001b[0mDepta\u001b[0m\u001b[0;34m\u001b[0m\u001b[0;34m\u001b[0m\u001b[0m\n\u001b[0m",
      "\u001b[0;32m~/anaconda3/envs/crf37/lib/python3.7/site-packages/pydepta/__init__.py\u001b[0m in \u001b[0;36m<module>\u001b[0;34m\u001b[0m\n\u001b[0;32m----> 1\u001b[0;31m \u001b[0;32mfrom\u001b[0m \u001b[0mdepta\u001b[0m \u001b[0;32mimport\u001b[0m \u001b[0mDepta\u001b[0m\u001b[0;34m\u001b[0m\u001b[0;34m\u001b[0m\u001b[0m\n\u001b[0m\u001b[1;32m      2\u001b[0m \u001b[0;32mfrom\u001b[0m \u001b[0mmdr\u001b[0m \u001b[0;32mimport\u001b[0m \u001b[0mRegion\u001b[0m\u001b[0;34m,\u001b[0m \u001b[0mregion_to_dict\u001b[0m\u001b[0;34m,\u001b[0m \u001b[0mdict_to_region\u001b[0m\u001b[0;34m\u001b[0m\u001b[0;34m\u001b[0m\u001b[0m\n",
      "\u001b[0;31mModuleNotFoundError\u001b[0m: No module named 'depta'"
     ]
    }
   ],
   "source": [
    "from pydepta import Depta"
   ]
  },
  {
   "cell_type": "code",
   "execution_count": 33,
   "id": "39dc32f2",
   "metadata": {},
   "outputs": [
    {
     "ename": "ModuleNotFoundError",
     "evalue": "No module named 'pydepta'",
     "output_type": "error",
     "traceback": [
      "\u001b[0;31m---------------------------------------------------------------------------\u001b[0m",
      "\u001b[0;31mModuleNotFoundError\u001b[0m                       Traceback (most recent call last)",
      "\u001b[0;32m<ipython-input-33-7674d52176b6>\u001b[0m in \u001b[0;36m<module>\u001b[0;34m\u001b[0m\n\u001b[0;32m----> 1\u001b[0;31m \u001b[0;32mfrom\u001b[0m \u001b[0mpydepta\u001b[0m \u001b[0;32mimport\u001b[0m \u001b[0mDepta\u001b[0m\u001b[0;34m\u001b[0m\u001b[0;34m\u001b[0m\u001b[0m\n\u001b[0m\u001b[1;32m      2\u001b[0m \u001b[0md\u001b[0m \u001b[0;34m=\u001b[0m \u001b[0mDepta\u001b[0m\u001b[0;34m(\u001b[0m\u001b[0;34m)\u001b[0m\u001b[0;34m\u001b[0m\u001b[0;34m\u001b[0m\u001b[0m\n\u001b[1;32m      3\u001b[0m \u001b[0murl1\u001b[0m \u001b[0;34m=\u001b[0m \u001b[0;34m'http://www.iens.nl/restaurant/12229/nijmegen-pasta-e-fagioli'\u001b[0m\u001b[0;34m\u001b[0m\u001b[0;34m\u001b[0m\u001b[0m\n\u001b[1;32m      4\u001b[0m \u001b[0mseed\u001b[0m \u001b[0;34m=\u001b[0m \u001b[0md\u001b[0m\u001b[0;34m.\u001b[0m\u001b[0mextract\u001b[0m\u001b[0;34m(\u001b[0m\u001b[0murl\u001b[0m\u001b[0;34m=\u001b[0m\u001b[0murl1\u001b[0m\u001b[0;34m)\u001b[0m\u001b[0;34m[\u001b[0m\u001b[0;36m8\u001b[0m\u001b[0;34m]\u001b[0m\u001b[0;34m\u001b[0m\u001b[0;34m\u001b[0m\u001b[0m\n\u001b[1;32m      5\u001b[0m \u001b[0mseed\u001b[0m\u001b[0;34m.\u001b[0m\u001b[0mas_plain_texts\u001b[0m\u001b[0;34m(\u001b[0m\u001b[0;34m)\u001b[0m\u001b[0;34m[\u001b[0m\u001b[0;36m0\u001b[0m\u001b[0;34m]\u001b[0m\u001b[0;34m\u001b[0m\u001b[0;34m\u001b[0m\u001b[0m\n",
      "\u001b[0;31mModuleNotFoundError\u001b[0m: No module named 'pydepta'"
     ]
    }
   ],
   "source": [
    "from pydepta import Depta\n",
    "d = Depta()\n",
    "url1 = 'http://www.iens.nl/restaurant/12229/nijmegen-pasta-e-fagioli'\n",
    "seed = d.extract(url=url1)[8]\n",
    "seed.as_plain_texts()[0]"
   ]
  },
  {
   "cell_type": "markdown",
   "id": "60530a70",
   "metadata": {},
   "source": [
    "### Scrapely ставится на python 3.7.4 с некотрой ошибкой\n",
    "\n",
    "https://github.com/scrapy/scrapely/issues/112"
   ]
  },
  {
   "cell_type": "code",
   "execution_count": null,
   "id": "1f5a4e8f",
   "metadata": {},
   "outputs": [
    {
     "name": "stdout",
     "output_type": "stream",
     "text": [
      "Collecting scrapely\n",
      "  Using cached scrapely-0.14.1.tar.gz (155 kB)\n",
      "Requirement already satisfied: numpy in /home/grigory/anaconda3/envs/crf/lib/python3.8/site-packages (from scrapely) (1.20.3)\n",
      "Requirement already satisfied: w3lib in /home/grigory/anaconda3/envs/crf/lib/python3.8/site-packages (from scrapely) (1.22.0)\n",
      "Requirement already satisfied: six in /home/grigory/anaconda3/envs/crf/lib/python3.8/site-packages (from scrapely) (1.15.0)\n",
      "Building wheels for collected packages: scrapely\n",
      "  Building wheel for scrapely (setup.py) ... \u001b[?25lerror\n",
      "\u001b[31m  ERROR: Command errored out with exit status 1:\n",
      "   command: /home/grigory/anaconda3/envs/crf/bin/python -u -c 'import io, os, sys, setuptools, tokenize; sys.argv[0] = '\"'\"'/tmp/pip-install-jbu6yecr/scrapely_92d454a99b994853b8d880216ca8e283/setup.py'\"'\"'; __file__='\"'\"'/tmp/pip-install-jbu6yecr/scrapely_92d454a99b994853b8d880216ca8e283/setup.py'\"'\"';f = getattr(tokenize, '\"'\"'open'\"'\"', open)(__file__) if os.path.exists(__file__) else io.StringIO('\"'\"'from setuptools import setup; setup()'\"'\"');code = f.read().replace('\"'\"'\\r\\n'\"'\"', '\"'\"'\\n'\"'\"');f.close();exec(compile(code, __file__, '\"'\"'exec'\"'\"'))' bdist_wheel -d /tmp/pip-wheel-bgnw04yk\n",
      "       cwd: /tmp/pip-install-jbu6yecr/scrapely_92d454a99b994853b8d880216ca8e283/\n",
      "  Complete output (534 lines):\n",
      "  running bdist_wheel\n",
      "  running build\n",
      "  running build_py\n",
      "  creating build\n",
      "  creating build/lib.linux-x86_64-3.8\n",
      "  creating build/lib.linux-x86_64-3.8/scrapely\n",
      "  copying scrapely/htmlpage.py -> build/lib.linux-x86_64-3.8/scrapely\n",
      "  copying scrapely/template.py -> build/lib.linux-x86_64-3.8/scrapely\n",
      "  copying scrapely/descriptor.py -> build/lib.linux-x86_64-3.8/scrapely\n",
      "  copying scrapely/extractors.py -> build/lib.linux-x86_64-3.8/scrapely\n",
      "  copying scrapely/__init__.py -> build/lib.linux-x86_64-3.8/scrapely\n",
      "  copying scrapely/tool.py -> build/lib.linux-x86_64-3.8/scrapely\n",
      "  copying scrapely/version.py -> build/lib.linux-x86_64-3.8/scrapely\n",
      "  creating build/lib.linux-x86_64-3.8/scrapely/extraction\n",
      "  copying scrapely/extraction/regionextract.py -> build/lib.linux-x86_64-3.8/scrapely/extraction\n",
      "  copying scrapely/extraction/__init__.py -> build/lib.linux-x86_64-3.8/scrapely/extraction\n",
      "  copying scrapely/extraction/pageobjects.py -> build/lib.linux-x86_64-3.8/scrapely/extraction\n",
      "  copying scrapely/extraction/similarity.py -> build/lib.linux-x86_64-3.8/scrapely/extraction\n",
      "  copying scrapely/extraction/pageparsing.py -> build/lib.linux-x86_64-3.8/scrapely/extraction\n",
      "  running egg_info\n",
      "  writing scrapely.egg-info/PKG-INFO\n",
      "  writing dependency_links to scrapely.egg-info/dependency_links.txt\n",
      "  writing requirements to scrapely.egg-info/requires.txt\n",
      "  writing top-level names to scrapely.egg-info/top_level.txt\n",
      "  reading manifest file 'scrapely.egg-info/SOURCES.txt'\n",
      "  reading manifest template 'MANIFEST.in'\n",
      "  writing manifest file 'scrapely.egg-info/SOURCES.txt'\n",
      "  copying scrapely/_htmlpage.c -> build/lib.linux-x86_64-3.8/scrapely\n",
      "  copying scrapely/_htmlpage.pyx -> build/lib.linux-x86_64-3.8/scrapely\n",
      "  copying scrapely/extraction/_similarity.c -> build/lib.linux-x86_64-3.8/scrapely/extraction\n",
      "  copying scrapely/extraction/_similarity.pyx -> build/lib.linux-x86_64-3.8/scrapely/extraction\n",
      "  running build_ext\n",
      "  building 'scrapely._htmlpage' extension\n",
      "  creating build/temp.linux-x86_64-3.8\n",
      "  creating build/temp.linux-x86_64-3.8/scrapely\n",
      "  gcc -pthread -B /home/grigory/anaconda3/envs/crf/compiler_compat -Wl,--sysroot=/ -Wsign-compare -DNDEBUG -g -fwrapv -O3 -Wall -Wstrict-prototypes -fPIC -I/home/grigory/anaconda3/envs/crf/lib/python3.8/site-packages/numpy/core/include -I/home/grigory/anaconda3/envs/crf/include/python3.8 -c scrapely/_htmlpage.c -o build/temp.linux-x86_64-3.8/scrapely/_htmlpage.o\n",
      "  scrapely/_htmlpage.c: In function ‘__Pyx_InitCachedConstants’:\n",
      "  /home/grigory/anaconda3/envs/crf/include/python3.8/code.h:72:25: warning: passing argument 6 of ‘PyCode_New’ makes pointer from integer without a cast [-Wint-conversion]\n",
      "   #define CO_OPTIMIZED    0x0001\n",
      "                           ^\n",
      "  scrapely/_htmlpage.c:333:37: note: in definition of macro ‘__Pyx_PyCode_New’\n",
      "             PyCode_New(a, 0, k, l, s, f, code, c, n, v, fv, cell, fn, name, fline, lnos)\n",
      "                                       ^\n",
      "  scrapely/_htmlpage.c:8279:63: note: in expansion of macro ‘CO_OPTIMIZED’\n",
      "     __pyx_codeobj__10 = (PyObject*)__Pyx_PyCode_New(4, 0, 4, 0, CO_OPTIMIZED|CO_NEWLOCALS, __pyx_empty_bytes, __pyx_empty_tuple, __pyx_empty_tuple, __pyx_tuple__9, __pyx_empty_tuple, __pyx_empty_tuple, __pyx_kp_s_scrapely__htmlpage_pyx, __pyx_n_s_init, 16, __pyx_empty_bytes); if (unlikely(!__pyx_codeobj__10)) __PYX_ERR(0, 16, __pyx_L1_error)\n",
      "                                                                 ^~~~~~~~~~~~\n",
      "  In file included from /home/grigory/anaconda3/envs/crf/include/python3.8/compile.h:5:0,\n",
      "                   from /home/grigory/anaconda3/envs/crf/include/python3.8/Python.h:138,\n",
      "                   from scrapely/_htmlpage.c:19:\n",
      "  /home/grigory/anaconda3/envs/crf/include/python3.8/code.h:122:28: note: expected ‘PyObject * {aka struct _object *}’ but argument is of type ‘int’\n",
      "   PyAPI_FUNC(PyCodeObject *) PyCode_New(\n",
      "                              ^~~~~~~~~~\n",
      "  scrapely/_htmlpage.c:8279:236: warning: passing argument 14 of ‘PyCode_New’ makes integer from pointer without a cast [-Wint-conversion]\n",
      "     __pyx_codeobj__10 = (PyObject*)__Pyx_PyCode_New(4, 0, 4, 0, CO_OPTIMIZED|CO_NEWLOCALS, __pyx_empty_bytes, __pyx_empty_tuple, __pyx_empty_tuple, __pyx_tuple__9, __pyx_empty_tuple, __pyx_empty_tuple, __pyx_kp_s_scrapely__htmlpage_pyx, __pyx_n_s_init, 16, __pyx_empty_bytes); if (unlikely(!__pyx_codeobj__10)) __PYX_ERR(0, 16, __pyx_L1_error)\n",
      "                                                                                                                                                                                                                                              ^\n",
      "  scrapely/_htmlpage.c:333:69: note: in definition of macro ‘__Pyx_PyCode_New’\n",
      "             PyCode_New(a, 0, k, l, s, f, code, c, n, v, fv, cell, fn, name, fline, lnos)\n",
      "                                                                       ^~~~\n",
      "  In file included from /home/grigory/anaconda3/envs/crf/include/python3.8/compile.h:5:0,\n",
      "                   from /home/grigory/anaconda3/envs/crf/include/python3.8/Python.h:138,\n",
      "                   from scrapely/_htmlpage.c:19:\n",
      "  /home/grigory/anaconda3/envs/crf/include/python3.8/code.h:122:28: note: expected ‘int’ but argument is of type ‘PyObject * {aka struct _object *}’\n",
      "   PyAPI_FUNC(PyCodeObject *) PyCode_New(\n",
      "                              ^~~~~~~~~~\n",
      "  scrapely/_htmlpage.c:8279:252: warning: passing argument 15 of ‘PyCode_New’ makes pointer from integer without a cast [-Wint-conversion]\n",
      "     __pyx_codeobj__10 = (PyObject*)__Pyx_PyCode_New(4, 0, 4, 0, CO_OPTIMIZED|CO_NEWLOCALS, __pyx_empty_bytes, __pyx_empty_tuple, __pyx_empty_tuple, __pyx_tuple__9, __pyx_empty_tuple, __pyx_empty_tuple, __pyx_kp_s_scrapely__htmlpage_pyx, __pyx_n_s_init, 16, __pyx_empty_bytes); if (unlikely(!__pyx_codeobj__10)) __PYX_ERR(0, 16, __pyx_L1_error)\n",
      "                                                                                                                                                                                                                                                              ^\n",
      "  scrapely/_htmlpage.c:333:75: note: in definition of macro ‘__Pyx_PyCode_New’\n",
      "             PyCode_New(a, 0, k, l, s, f, code, c, n, v, fv, cell, fn, name, fline, lnos)\n",
      "                                                                             ^~~~~\n",
      "  In file included from /home/grigory/anaconda3/envs/crf/include/python3.8/compile.h:5:0,\n",
      "                   from /home/grigory/anaconda3/envs/crf/include/python3.8/Python.h:138,\n",
      "                   from scrapely/_htmlpage.c:19:\n",
      "  /home/grigory/anaconda3/envs/crf/include/python3.8/code.h:122:28: note: expected ‘PyObject * {aka struct _object *}’ but argument is of type ‘int’\n",
      "   PyAPI_FUNC(PyCodeObject *) PyCode_New(\n",
      "                              ^~~~~~~~~~\n",
      "  scrapely/_htmlpage.c:333:11: error: too many arguments to function ‘PyCode_New’\n",
      "             PyCode_New(a, 0, k, l, s, f, code, c, n, v, fv, cell, fn, name, fline, lnos)\n",
      "             ^\n",
      "  scrapely/_htmlpage.c:8279:34: note: in expansion of macro ‘__Pyx_PyCode_New’\n",
      "     __pyx_codeobj__10 = (PyObject*)__Pyx_PyCode_New(4, 0, 4, 0, CO_OPTIMIZED|CO_NEWLOCALS, __pyx_empty_bytes, __pyx_empty_tuple, __pyx_empty_tuple, __pyx_tuple__9, __pyx_empty_tuple, __pyx_empty_tuple, __pyx_kp_s_scrapely__htmlpage_pyx, __pyx_n_s_init, 16, __pyx_empty_bytes); if (unlikely(!__pyx_codeobj__10)) __PYX_ERR(0, 16, __pyx_L1_error)\n",
      "                                    ^~~~~~~~~~~~~~~~\n",
      "  In file included from /home/grigory/anaconda3/envs/crf/include/python3.8/compile.h:5:0,\n",
      "                   from /home/grigory/anaconda3/envs/crf/include/python3.8/Python.h:138,\n",
      "                   from scrapely/_htmlpage.c:19:\n",
      "  /home/grigory/anaconda3/envs/crf/include/python3.8/code.h:122:28: note: declared here\n",
      "   PyAPI_FUNC(PyCodeObject *) PyCode_New(\n",
      "                              ^~~~~~~~~~\n",
      "  /home/grigory/anaconda3/envs/crf/include/python3.8/code.h:72:25: warning: passing argument 6 of ‘PyCode_New’ makes pointer from integer without a cast [-Wint-conversion]\n",
      "   #define CO_OPTIMIZED    0x0001\n",
      "                           ^\n",
      "  scrapely/_htmlpage.c:333:37: note: in definition of macro ‘__Pyx_PyCode_New’\n",
      "             PyCode_New(a, 0, k, l, s, f, code, c, n, v, fv, cell, fn, name, fline, lnos)\n",
      "                                       ^\n",
      "  scrapely/_htmlpage.c:8294:63: note: in expansion of macro ‘CO_OPTIMIZED’\n",
      "     __pyx_codeobj__13 = (PyObject*)__Pyx_PyCode_New(1, 0, 1, 0, CO_OPTIMIZED|CO_NEWLOCALS, __pyx_empty_bytes, __pyx_empty_tuple, __pyx_empty_tuple, __pyx_tuple__12, __pyx_empty_tuple, __pyx_empty_tuple, __pyx_kp_s_scrapely__htmlpage_pyx, __pyx_n_s_str, 21, __pyx_empty_bytes); if (unlikely(!__pyx_codeobj__13)) __PYX_ERR(0, 21, __pyx_L1_error)\n",
      "                                                                 ^~~~~~~~~~~~\n",
      "  In file included from /home/grigory/anaconda3/envs/crf/include/python3.8/compile.h:5:0,\n",
      "                   from /home/grigory/anaconda3/envs/crf/include/python3.8/Python.h:138,\n",
      "                   from scrapely/_htmlpage.c:19:\n",
      "  /home/grigory/anaconda3/envs/crf/include/python3.8/code.h:122:28: note: expected ‘PyObject * {aka struct _object *}’ but argument is of type ‘int’\n",
      "   PyAPI_FUNC(PyCodeObject *) PyCode_New(\n",
      "                              ^~~~~~~~~~\n",
      "  scrapely/_htmlpage.c:8294:237: warning: passing argument 14 of ‘PyCode_New’ makes integer from pointer without a cast [-Wint-conversion]\n",
      "     __pyx_codeobj__13 = (PyObject*)__Pyx_PyCode_New(1, 0, 1, 0, CO_OPTIMIZED|CO_NEWLOCALS, __pyx_empty_bytes, __pyx_empty_tuple, __pyx_empty_tuple, __pyx_tuple__12, __pyx_empty_tuple, __pyx_empty_tuple, __pyx_kp_s_scrapely__htmlpage_pyx, __pyx_n_s_str, 21, __pyx_empty_bytes); if (unlikely(!__pyx_codeobj__13)) __PYX_ERR(0, 21, __pyx_L1_error)\n",
      "                                                                                                                                                                                                                                               ^\n",
      "  scrapely/_htmlpage.c:333:69: note: in definition of macro ‘__Pyx_PyCode_New’\n",
      "             PyCode_New(a, 0, k, l, s, f, code, c, n, v, fv, cell, fn, name, fline, lnos)\n",
      "                                                                       ^~~~\n",
      "  In file included from /home/grigory/anaconda3/envs/crf/include/python3.8/compile.h:5:0,\n",
      "                   from /home/grigory/anaconda3/envs/crf/include/python3.8/Python.h:138,\n",
      "                   from scrapely/_htmlpage.c:19:\n",
      "  /home/grigory/anaconda3/envs/crf/include/python3.8/code.h:122:28: note: expected ‘int’ but argument is of type ‘PyObject * {aka struct _object *}’\n",
      "   PyAPI_FUNC(PyCodeObject *) PyCode_New(\n",
      "                              ^~~~~~~~~~\n",
      "  scrapely/_htmlpage.c:8294:252: warning: passing argument 15 of ‘PyCode_New’ makes pointer from integer without a cast [-Wint-conversion]\n",
      "     __pyx_codeobj__13 = (PyObject*)__Pyx_PyCode_New(1, 0, 1, 0, CO_OPTIMIZED|CO_NEWLOCALS, __pyx_empty_bytes, __pyx_empty_tuple, __pyx_empty_tuple, __pyx_tuple__12, __pyx_empty_tuple, __pyx_empty_tuple, __pyx_kp_s_scrapely__htmlpage_pyx, __pyx_n_s_str, 21, __pyx_empty_bytes); if (unlikely(!__pyx_codeobj__13)) __PYX_ERR(0, 21, __pyx_L1_error)\n",
      "                                                                                                                                                                                                                                                              ^\n",
      "  scrapely/_htmlpage.c:333:75: note: in definition of macro ‘__Pyx_PyCode_New’\n",
      "             PyCode_New(a, 0, k, l, s, f, code, c, n, v, fv, cell, fn, name, fline, lnos)\n",
      "                                                                             ^~~~~\n",
      "  In file included from /home/grigory/anaconda3/envs/crf/include/python3.8/compile.h:5:0,\n",
      "                   from /home/grigory/anaconda3/envs/crf/include/python3.8/Python.h:138,\n",
      "                   from scrapely/_htmlpage.c:19:\n",
      "  /home/grigory/anaconda3/envs/crf/include/python3.8/code.h:122:28: note: expected ‘PyObject * {aka struct _object *}’ but argument is of type ‘int’\n",
      "   PyAPI_FUNC(PyCodeObject *) PyCode_New(\n",
      "                              ^~~~~~~~~~\n",
      "  scrapely/_htmlpage.c:333:11: error: too many arguments to function ‘PyCode_New’\n",
      "             PyCode_New(a, 0, k, l, s, f, code, c, n, v, fv, cell, fn, name, fline, lnos)\n",
      "             ^\n",
      "  scrapely/_htmlpage.c:8294:34: note: in expansion of macro ‘__Pyx_PyCode_New’\n",
      "     __pyx_codeobj__13 = (PyObject*)__Pyx_PyCode_New(1, 0, 1, 0, CO_OPTIMIZED|CO_NEWLOCALS, __pyx_empty_bytes, __pyx_empty_tuple, __pyx_empty_tuple, __pyx_tuple__12, __pyx_empty_tuple, __pyx_empty_tuple, __pyx_kp_s_scrapely__htmlpage_pyx, __pyx_n_s_str, 21, __pyx_empty_bytes); if (unlikely(!__pyx_codeobj__13)) __PYX_ERR(0, 21, __pyx_L1_error)\n",
      "                                    ^~~~~~~~~~~~~~~~\n",
      "  In file included from /home/grigory/anaconda3/envs/crf/include/python3.8/compile.h:5:0,\n",
      "                   from /home/grigory/anaconda3/envs/crf/include/python3.8/Python.h:138,\n",
      "                   from scrapely/_htmlpage.c:19:\n",
      "  /home/grigory/anaconda3/envs/crf/include/python3.8/code.h:122:28: note: declared here\n",
      "   PyAPI_FUNC(PyCodeObject *) PyCode_New(\n",
      "                              ^~~~~~~~~~\n",
      "  /home/grigory/anaconda3/envs/crf/include/python3.8/code.h:72:25: warning: passing argument 6 of ‘PyCode_New’ makes pointer from integer without a cast [-Wint-conversion]\n",
      "   #define CO_OPTIMIZED    0x0001\n",
      "                           ^\n",
      "  scrapely/_htmlpage.c:333:37: note: in definition of macro ‘__Pyx_PyCode_New’\n",
      "             PyCode_New(a, 0, k, l, s, f, code, c, n, v, fv, cell, fn, name, fline, lnos)\n",
      "                                       ^\n",
      "  scrapely/_htmlpage.c:8306:63: note: in expansion of macro ‘CO_OPTIMIZED’\n",
      "     __pyx_codeobj__15 = (PyObject*)__Pyx_PyCode_New(1, 0, 1, 0, CO_OPTIMIZED|CO_NEWLOCALS, __pyx_empty_bytes, __pyx_empty_tuple, __pyx_empty_tuple, __pyx_tuple__14, __pyx_empty_tuple, __pyx_empty_tuple, __pyx_kp_s_scrapely__htmlpage_pyx, __pyx_n_s_repr, 24, __pyx_empty_bytes); if (unlikely(!__pyx_codeobj__15)) __PYX_ERR(0, 24, __pyx_L1_error)\n",
      "                                                                 ^~~~~~~~~~~~\n",
      "  In file included from /home/grigory/anaconda3/envs/crf/include/python3.8/compile.h:5:0,\n",
      "                   from /home/grigory/anaconda3/envs/crf/include/python3.8/Python.h:138,\n",
      "                   from scrapely/_htmlpage.c:19:\n",
      "  /home/grigory/anaconda3/envs/crf/include/python3.8/code.h:122:28: note: expected ‘PyObject * {aka struct _object *}’ but argument is of type ‘int’\n",
      "   PyAPI_FUNC(PyCodeObject *) PyCode_New(\n",
      "                              ^~~~~~~~~~\n",
      "  scrapely/_htmlpage.c:8306:237: warning: passing argument 14 of ‘PyCode_New’ makes integer from pointer without a cast [-Wint-conversion]\n",
      "     __pyx_codeobj__15 = (PyObject*)__Pyx_PyCode_New(1, 0, 1, 0, CO_OPTIMIZED|CO_NEWLOCALS, __pyx_empty_bytes, __pyx_empty_tuple, __pyx_empty_tuple, __pyx_tuple__14, __pyx_empty_tuple, __pyx_empty_tuple, __pyx_kp_s_scrapely__htmlpage_pyx, __pyx_n_s_repr, 24, __pyx_empty_bytes); if (unlikely(!__pyx_codeobj__15)) __PYX_ERR(0, 24, __pyx_L1_error)\n",
      "                                                                                                                                                                                                                                               ^\n",
      "  scrapely/_htmlpage.c:333:69: note: in definition of macro ‘__Pyx_PyCode_New’\n",
      "             PyCode_New(a, 0, k, l, s, f, code, c, n, v, fv, cell, fn, name, fline, lnos)\n",
      "                                                                       ^~~~\n",
      "  In file included from /home/grigory/anaconda3/envs/crf/include/python3.8/compile.h:5:0,\n",
      "                   from /home/grigory/anaconda3/envs/crf/include/python3.8/Python.h:138,\n",
      "                   from scrapely/_htmlpage.c:19:\n",
      "  /home/grigory/anaconda3/envs/crf/include/python3.8/code.h:122:28: note: expected ‘int’ but argument is of type ‘PyObject * {aka struct _object *}’\n",
      "   PyAPI_FUNC(PyCodeObject *) PyCode_New(\n",
      "                              ^~~~~~~~~~\n",
      "  scrapely/_htmlpage.c:8306:253: warning: passing argument 15 of ‘PyCode_New’ makes pointer from integer without a cast [-Wint-conversion]\n",
      "     __pyx_codeobj__15 = (PyObject*)__Pyx_PyCode_New(1, 0, 1, 0, CO_OPTIMIZED|CO_NEWLOCALS, __pyx_empty_bytes, __pyx_empty_tuple, __pyx_empty_tuple, __pyx_tuple__14, __pyx_empty_tuple, __pyx_empty_tuple, __pyx_kp_s_scrapely__htmlpage_pyx, __pyx_n_s_repr, 24, __pyx_empty_bytes); if (unlikely(!__pyx_codeobj__15)) __PYX_ERR(0, 24, __pyx_L1_error)\n",
      "                                                                                                                                                                                                                                                               ^\n",
      "  scrapely/_htmlpage.c:333:75: note: in definition of macro ‘__Pyx_PyCode_New’\n",
      "             PyCode_New(a, 0, k, l, s, f, code, c, n, v, fv, cell, fn, name, fline, lnos)\n",
      "                                                                             ^~~~~\n",
      "  In file included from /home/grigory/anaconda3/envs/crf/include/python3.8/compile.h:5:0,\n",
      "                   from /home/grigory/anaconda3/envs/crf/include/python3.8/Python.h:138,\n",
      "                   from scrapely/_htmlpage.c:19:\n",
      "  /home/grigory/anaconda3/envs/crf/include/python3.8/code.h:122:28: note: expected ‘PyObject * {aka struct _object *}’ but argument is of type ‘int’\n",
      "   PyAPI_FUNC(PyCodeObject *) PyCode_New(\n",
      "                              ^~~~~~~~~~\n",
      "  scrapely/_htmlpage.c:333:11: error: too many arguments to function ‘PyCode_New’\n",
      "             PyCode_New(a, 0, k, l, s, f, code, c, n, v, fv, cell, fn, name, fline, lnos)\n",
      "             ^\n",
      "  scrapely/_htmlpage.c:8306:34: note: in expansion of macro ‘__Pyx_PyCode_New’\n",
      "     __pyx_codeobj__15 = (PyObject*)__Pyx_PyCode_New(1, 0, 1, 0, CO_OPTIMIZED|CO_NEWLOCALS, __pyx_empty_bytes, __pyx_empty_tuple, __pyx_empty_tuple, __pyx_tuple__14, __pyx_empty_tuple, __pyx_empty_tuple, __pyx_kp_s_scrapely__htmlpage_pyx, __pyx_n_s_repr, 24, __pyx_empty_bytes); if (unlikely(!__pyx_codeobj__15)) __PYX_ERR(0, 24, __pyx_L1_error)\n",
      "                                    ^~~~~~~~~~~~~~~~\n",
      "  In file included from /home/grigory/anaconda3/envs/crf/include/python3.8/compile.h:5:0,\n",
      "                   from /home/grigory/anaconda3/envs/crf/include/python3.8/Python.h:138,\n",
      "                   from scrapely/_htmlpage.c:19:\n",
      "  /home/grigory/anaconda3/envs/crf/include/python3.8/code.h:122:28: note: declared here\n",
      "   PyAPI_FUNC(PyCodeObject *) PyCode_New(\n",
      "                              ^~~~~~~~~~\n",
      "  /home/grigory/anaconda3/envs/crf/include/python3.8/code.h:72:25: warning: passing argument 6 of ‘PyCode_New’ makes pointer from integer without a cast [-Wint-conversion]\n",
      "   #define CO_OPTIMIZED    0x0001\n",
      "                           ^\n",
      "  scrapely/_htmlpage.c:333:37: note: in definition of macro ‘__Pyx_PyCode_New’\n",
      "             PyCode_New(a, 0, k, l, s, f, code, c, n, v, fv, cell, fn, name, fline, lnos)\n",
      "                                       ^\n",
      "  scrapely/_htmlpage.c:8329:63: note: in expansion of macro ‘CO_OPTIMIZED’\n",
      "     __pyx_codeobj__18 = (PyObject*)__Pyx_PyCode_New(6, 0, 6, 0, CO_OPTIMIZED|CO_NEWLOCALS, __pyx_empty_bytes, __pyx_empty_tuple, __pyx_empty_tuple, __pyx_tuple__17, __pyx_empty_tuple, __pyx_empty_tuple, __pyx_kp_s_scrapely__htmlpage_pyx, __pyx_n_s_init, 31, __pyx_empty_bytes); if (unlikely(!__pyx_codeobj__18)) __PYX_ERR(0, 31, __pyx_L1_error)\n",
      "                                                                 ^~~~~~~~~~~~\n",
      "  In file included from /home/grigory/anaconda3/envs/crf/include/python3.8/compile.h:5:0,\n",
      "                   from /home/grigory/anaconda3/envs/crf/include/python3.8/Python.h:138,\n",
      "                   from scrapely/_htmlpage.c:19:\n",
      "  /home/grigory/anaconda3/envs/crf/include/python3.8/code.h:122:28: note: expected ‘PyObject * {aka struct _object *}’ but argument is of type ‘int’\n",
      "   PyAPI_FUNC(PyCodeObject *) PyCode_New(\n",
      "                              ^~~~~~~~~~\n",
      "  scrapely/_htmlpage.c:8329:237: warning: passing argument 14 of ‘PyCode_New’ makes integer from pointer without a cast [-Wint-conversion]\n",
      "     __pyx_codeobj__18 = (PyObject*)__Pyx_PyCode_New(6, 0, 6, 0, CO_OPTIMIZED|CO_NEWLOCALS, __pyx_empty_bytes, __pyx_empty_tuple, __pyx_empty_tuple, __pyx_tuple__17, __pyx_empty_tuple, __pyx_empty_tuple, __pyx_kp_s_scrapely__htmlpage_pyx, __pyx_n_s_init, 31, __pyx_empty_bytes); if (unlikely(!__pyx_codeobj__18)) __PYX_ERR(0, 31, __pyx_L1_error)\n",
      "                                                                                                                                                                                                                                               ^\n",
      "  scrapely/_htmlpage.c:333:69: note: in definition of macro ‘__Pyx_PyCode_New’\n",
      "             PyCode_New(a, 0, k, l, s, f, code, c, n, v, fv, cell, fn, name, fline, lnos)\n",
      "                                                                       ^~~~\n",
      "  In file included from /home/grigory/anaconda3/envs/crf/include/python3.8/compile.h:5:0,\n",
      "                   from /home/grigory/anaconda3/envs/crf/include/python3.8/Python.h:138,\n",
      "                   from scrapely/_htmlpage.c:19:\n",
      "  /home/grigory/anaconda3/envs/crf/include/python3.8/code.h:122:28: note: expected ‘int’ but argument is of type ‘PyObject * {aka struct _object *}’\n",
      "   PyAPI_FUNC(PyCodeObject *) PyCode_New(\n",
      "                              ^~~~~~~~~~\n",
      "  scrapely/_htmlpage.c:8329:253: warning: passing argument 15 of ‘PyCode_New’ makes pointer from integer without a cast [-Wint-conversion]\n",
      "     __pyx_codeobj__18 = (PyObject*)__Pyx_PyCode_New(6, 0, 6, 0, CO_OPTIMIZED|CO_NEWLOCALS, __pyx_empty_bytes, __pyx_empty_tuple, __pyx_empty_tuple, __pyx_tuple__17, __pyx_empty_tuple, __pyx_empty_tuple, __pyx_kp_s_scrapely__htmlpage_pyx, __pyx_n_s_init, 31, __pyx_empty_bytes); if (unlikely(!__pyx_codeobj__18)) __PYX_ERR(0, 31, __pyx_L1_error)\n",
      "                                                                                                                                                                                                                                                               ^\n",
      "  scrapely/_htmlpage.c:333:75: note: in definition of macro ‘__Pyx_PyCode_New’\n",
      "             PyCode_New(a, 0, k, l, s, f, code, c, n, v, fv, cell, fn, name, fline, lnos)\n",
      "                                                                             ^~~~~\n",
      "  In file included from /home/grigory/anaconda3/envs/crf/include/python3.8/compile.h:5:0,\n",
      "                   from /home/grigory/anaconda3/envs/crf/include/python3.8/Python.h:138,\n",
      "                   from scrapely/_htmlpage.c:19:\n",
      "  /home/grigory/anaconda3/envs/crf/include/python3.8/code.h:122:28: note: expected ‘PyObject * {aka struct _object *}’ but argument is of type ‘int’\n",
      "   PyAPI_FUNC(PyCodeObject *) PyCode_New(\n",
      "                              ^~~~~~~~~~\n",
      "  scrapely/_htmlpage.c:333:11: error: too many arguments to function ‘PyCode_New’\n",
      "             PyCode_New(a, 0, k, l, s, f, code, c, n, v, fv, cell, fn, name, fline, lnos)\n",
      "             ^\n",
      "  scrapely/_htmlpage.c:8329:34: note: in expansion of macro ‘__Pyx_PyCode_New’\n",
      "     __pyx_codeobj__18 = (PyObject*)__Pyx_PyCode_New(6, 0, 6, 0, CO_OPTIMIZED|CO_NEWLOCALS, __pyx_empty_bytes, __pyx_empty_tuple, __pyx_empty_tuple, __pyx_tuple__17, __pyx_empty_tuple, __pyx_empty_tuple, __pyx_kp_s_scrapely__htmlpage_pyx, __pyx_n_s_init, 31, __pyx_empty_bytes); if (unlikely(!__pyx_codeobj__18)) __PYX_ERR(0, 31, __pyx_L1_error)\n",
      "                                    ^~~~~~~~~~~~~~~~\n",
      "  In file included from /home/grigory/anaconda3/envs/crf/include/python3.8/compile.h:5:0,\n",
      "                   from /home/grigory/anaconda3/envs/crf/include/python3.8/Python.h:138,\n",
      "                   from scrapely/_htmlpage.c:19:\n",
      "  /home/grigory/anaconda3/envs/crf/include/python3.8/code.h:122:28: note: declared here\n",
      "   PyAPI_FUNC(PyCodeObject *) PyCode_New(\n",
      "                              ^~~~~~~~~~\n",
      "  /home/grigory/anaconda3/envs/crf/include/python3.8/code.h:72:25: warning: passing argument 6 of ‘PyCode_New’ makes pointer from integer without a cast [-Wint-conversion]\n",
      "   #define CO_OPTIMIZED    0x0001\n",
      "                           ^\n",
      "  scrapely/_htmlpage.c:333:37: note: in definition of macro ‘__Pyx_PyCode_New’\n",
      "             PyCode_New(a, 0, k, l, s, f, code, c, n, v, fv, cell, fn, name, fline, lnos)\n",
      "                                       ^\n",
      "  scrapely/_htmlpage.c:8341:63: note: in expansion of macro ‘CO_OPTIMIZED’\n",
      "     __pyx_codeobj__20 = (PyObject*)__Pyx_PyCode_New(1, 0, 5, 0, CO_OPTIMIZED|CO_NEWLOCALS, __pyx_empty_bytes, __pyx_empty_tuple, __pyx_empty_tuple, __pyx_tuple__19, __pyx_empty_tuple, __pyx_empty_tuple, __pyx_kp_s_scrapely__htmlpage_pyx, __pyx_n_s_attributes_2, 43, __pyx_empty_bytes); if (unlikely(!__pyx_codeobj__20)) __PYX_ERR(0, 43, __pyx_L1_error)\n",
      "                                                                 ^~~~~~~~~~~~\n",
      "  In file included from /home/grigory/anaconda3/envs/crf/include/python3.8/compile.h:5:0,\n",
      "                   from /home/grigory/anaconda3/envs/crf/include/python3.8/Python.h:138,\n",
      "                   from scrapely/_htmlpage.c:19:\n",
      "  /home/grigory/anaconda3/envs/crf/include/python3.8/code.h:122:28: note: expected ‘PyObject * {aka struct _object *}’ but argument is of type ‘int’\n",
      "   PyAPI_FUNC(PyCodeObject *) PyCode_New(\n",
      "                              ^~~~~~~~~~\n",
      "  scrapely/_htmlpage.c:8341:237: warning: passing argument 14 of ‘PyCode_New’ makes integer from pointer without a cast [-Wint-conversion]\n",
      "     __pyx_codeobj__20 = (PyObject*)__Pyx_PyCode_New(1, 0, 5, 0, CO_OPTIMIZED|CO_NEWLOCALS, __pyx_empty_bytes, __pyx_empty_tuple, __pyx_empty_tuple, __pyx_tuple__19, __pyx_empty_tuple, __pyx_empty_tuple, __pyx_kp_s_scrapely__htmlpage_pyx, __pyx_n_s_attributes_2, 43, __pyx_empty_bytes); if (unlikely(!__pyx_codeobj__20)) __PYX_ERR(0, 43, __pyx_L1_error)\n",
      "                                                                                                                                                                                                                                               ^\n",
      "  scrapely/_htmlpage.c:333:69: note: in definition of macro ‘__Pyx_PyCode_New’\n",
      "             PyCode_New(a, 0, k, l, s, f, code, c, n, v, fv, cell, fn, name, fline, lnos)\n",
      "                                                                       ^~~~\n",
      "  In file included from /home/grigory/anaconda3/envs/crf/include/python3.8/compile.h:5:0,\n",
      "                   from /home/grigory/anaconda3/envs/crf/include/python3.8/Python.h:138,\n",
      "                   from scrapely/_htmlpage.c:19:\n",
      "  /home/grigory/anaconda3/envs/crf/include/python3.8/code.h:122:28: note: expected ‘int’ but argument is of type ‘PyObject * {aka struct _object *}’\n",
      "   PyAPI_FUNC(PyCodeObject *) PyCode_New(\n",
      "                              ^~~~~~~~~~\n",
      "  scrapely/_htmlpage.c:8341:261: warning: passing argument 15 of ‘PyCode_New’ makes pointer from integer without a cast [-Wint-conversion]\n",
      "     __pyx_codeobj__20 = (PyObject*)__Pyx_PyCode_New(1, 0, 5, 0, CO_OPTIMIZED|CO_NEWLOCALS, __pyx_empty_bytes, __pyx_empty_tuple, __pyx_empty_tuple, __pyx_tuple__19, __pyx_empty_tuple, __pyx_empty_tuple, __pyx_kp_s_scrapely__htmlpage_pyx, __pyx_n_s_attributes_2, 43, __pyx_empty_bytes); if (unlikely(!__pyx_codeobj__20)) __PYX_ERR(0, 43, __pyx_L1_error)\n",
      "                                                                                                                                                                                                                                                                       ^\n",
      "  scrapely/_htmlpage.c:333:75: note: in definition of macro ‘__Pyx_PyCode_New’\n",
      "             PyCode_New(a, 0, k, l, s, f, code, c, n, v, fv, cell, fn, name, fline, lnos)\n",
      "                                                                             ^~~~~\n",
      "  In file included from /home/grigory/anaconda3/envs/crf/include/python3.8/compile.h:5:0,\n",
      "                   from /home/grigory/anaconda3/envs/crf/include/python3.8/Python.h:138,\n",
      "                   from scrapely/_htmlpage.c:19:\n",
      "  /home/grigory/anaconda3/envs/crf/include/python3.8/code.h:122:28: note: expected ‘PyObject * {aka struct _object *}’ but argument is of type ‘int’\n",
      "   PyAPI_FUNC(PyCodeObject *) PyCode_New(\n",
      "                              ^~~~~~~~~~\n",
      "  scrapely/_htmlpage.c:333:11: error: too many arguments to function ‘PyCode_New’\n",
      "             PyCode_New(a, 0, k, l, s, f, code, c, n, v, fv, cell, fn, name, fline, lnos)\n",
      "             ^\n",
      "  scrapely/_htmlpage.c:8341:34: note: in expansion of macro ‘__Pyx_PyCode_New’\n",
      "     __pyx_codeobj__20 = (PyObject*)__Pyx_PyCode_New(1, 0, 5, 0, CO_OPTIMIZED|CO_NEWLOCALS, __pyx_empty_bytes, __pyx_empty_tuple, __pyx_empty_tuple, __pyx_tuple__19, __pyx_empty_tuple, __pyx_empty_tuple, __pyx_kp_s_scrapely__htmlpage_pyx, __pyx_n_s_attributes_2, 43, __pyx_empty_bytes); if (unlikely(!__pyx_codeobj__20)) __PYX_ERR(0, 43, __pyx_L1_error)\n",
      "                                    ^~~~~~~~~~~~~~~~\n",
      "  In file included from /home/grigory/anaconda3/envs/crf/include/python3.8/compile.h:5:0,\n",
      "                   from /home/grigory/anaconda3/envs/crf/include/python3.8/Python.h:138,\n",
      "                   from scrapely/_htmlpage.c:19:\n",
      "  /home/grigory/anaconda3/envs/crf/include/python3.8/code.h:122:28: note: declared here\n",
      "   PyAPI_FUNC(PyCodeObject *) PyCode_New(\n",
      "                              ^~~~~~~~~~\n",
      "  /home/grigory/anaconda3/envs/crf/include/python3.8/code.h:72:25: warning: passing argument 6 of ‘PyCode_New’ makes pointer from integer without a cast [-Wint-conversion]\n",
      "   #define CO_OPTIMIZED    0x0001\n",
      "                           ^\n",
      "  scrapely/_htmlpage.c:333:37: note: in definition of macro ‘__Pyx_PyCode_New’\n",
      "             PyCode_New(a, 0, k, l, s, f, code, c, n, v, fv, cell, fn, name, fline, lnos)\n",
      "                                       ^\n",
      "  scrapely/_htmlpage.c:8353:63: note: in expansion of macro ‘CO_OPTIMIZED’\n",
      "     __pyx_codeobj__22 = (PyObject*)__Pyx_PyCode_New(1, 0, 3, 0, CO_OPTIMIZED|CO_NEWLOCALS, __pyx_empty_bytes, __pyx_empty_tuple, __pyx_empty_tuple, __pyx_tuple__21, __pyx_empty_tuple, __pyx_empty_tuple, __pyx_kp_s_scrapely__htmlpage_pyx, __pyx_n_s_str, 54, __pyx_empty_bytes); if (unlikely(!__pyx_codeobj__22)) __PYX_ERR(0, 54, __pyx_L1_error)\n",
      "                                                                 ^~~~~~~~~~~~\n",
      "  In file included from /home/grigory/anaconda3/envs/crf/include/python3.8/compile.h:5:0,\n",
      "                   from /home/grigory/anaconda3/envs/crf/include/python3.8/Python.h:138,\n",
      "                   from scrapely/_htmlpage.c:19:\n",
      "  /home/grigory/anaconda3/envs/crf/include/python3.8/code.h:122:28: note: expected ‘PyObject * {aka struct _object *}’ but argument is of type ‘int’\n",
      "   PyAPI_FUNC(PyCodeObject *) PyCode_New(\n",
      "                              ^~~~~~~~~~\n",
      "  scrapely/_htmlpage.c:8353:237: warning: passing argument 14 of ‘PyCode_New’ makes integer from pointer without a cast [-Wint-conversion]\n",
      "     __pyx_codeobj__22 = (PyObject*)__Pyx_PyCode_New(1, 0, 3, 0, CO_OPTIMIZED|CO_NEWLOCALS, __pyx_empty_bytes, __pyx_empty_tuple, __pyx_empty_tuple, __pyx_tuple__21, __pyx_empty_tuple, __pyx_empty_tuple, __pyx_kp_s_scrapely__htmlpage_pyx, __pyx_n_s_str, 54, __pyx_empty_bytes); if (unlikely(!__pyx_codeobj__22)) __PYX_ERR(0, 54, __pyx_L1_error)\n",
      "                                                                                                                                                                                                                                               ^\n",
      "  scrapely/_htmlpage.c:333:69: note: in definition of macro ‘__Pyx_PyCode_New’\n",
      "             PyCode_New(a, 0, k, l, s, f, code, c, n, v, fv, cell, fn, name, fline, lnos)\n",
      "                                                                       ^~~~\n",
      "  In file included from /home/grigory/anaconda3/envs/crf/include/python3.8/compile.h:5:0,\n",
      "                   from /home/grigory/anaconda3/envs/crf/include/python3.8/Python.h:138,\n",
      "                   from scrapely/_htmlpage.c:19:\n",
      "  /home/grigory/anaconda3/envs/crf/include/python3.8/code.h:122:28: note: expected ‘int’ but argument is of type ‘PyObject * {aka struct _object *}’\n",
      "   PyAPI_FUNC(PyCodeObject *) PyCode_New(\n",
      "                              ^~~~~~~~~~\n",
      "  scrapely/_htmlpage.c:8353:252: warning: passing argument 15 of ‘PyCode_New’ makes pointer from integer without a cast [-Wint-conversion]\n",
      "     __pyx_codeobj__22 = (PyObject*)__Pyx_PyCode_New(1, 0, 3, 0, CO_OPTIMIZED|CO_NEWLOCALS, __pyx_empty_bytes, __pyx_empty_tuple, __pyx_empty_tuple, __pyx_tuple__21, __pyx_empty_tuple, __pyx_empty_tuple, __pyx_kp_s_scrapely__htmlpage_pyx, __pyx_n_s_str, 54, __pyx_empty_bytes); if (unlikely(!__pyx_codeobj__22)) __PYX_ERR(0, 54, __pyx_L1_error)\n",
      "                                                                                                                                                                                                                                                              ^\n",
      "  scrapely/_htmlpage.c:333:75: note: in definition of macro ‘__Pyx_PyCode_New’\n",
      "             PyCode_New(a, 0, k, l, s, f, code, c, n, v, fv, cell, fn, name, fline, lnos)\n",
      "                                                                             ^~~~~\n",
      "  In file included from /home/grigory/anaconda3/envs/crf/include/python3.8/compile.h:5:0,\n",
      "                   from /home/grigory/anaconda3/envs/crf/include/python3.8/Python.h:138,\n",
      "                   from scrapely/_htmlpage.c:19:\n",
      "  /home/grigory/anaconda3/envs/crf/include/python3.8/code.h:122:28: note: expected ‘PyObject * {aka struct _object *}’ but argument is of type ‘int’\n",
      "   PyAPI_FUNC(PyCodeObject *) PyCode_New(\n",
      "                              ^~~~~~~~~~\n",
      "  scrapely/_htmlpage.c:333:11: error: too many arguments to function ‘PyCode_New’\n",
      "             PyCode_New(a, 0, k, l, s, f, code, c, n, v, fv, cell, fn, name, fline, lnos)\n",
      "             ^\n",
      "  scrapely/_htmlpage.c:8353:34: note: in expansion of macro ‘__Pyx_PyCode_New’\n",
      "     __pyx_codeobj__22 = (PyObject*)__Pyx_PyCode_New(1, 0, 3, 0, CO_OPTIMIZED|CO_NEWLOCALS, __pyx_empty_bytes, __pyx_empty_tuple, __pyx_empty_tuple, __pyx_tuple__21, __pyx_empty_tuple, __pyx_empty_tuple, __pyx_kp_s_scrapely__htmlpage_pyx, __pyx_n_s_str, 54, __pyx_empty_bytes); if (unlikely(!__pyx_codeobj__22)) __PYX_ERR(0, 54, __pyx_L1_error)\n",
      "                                    ^~~~~~~~~~~~~~~~\n",
      "  In file included from /home/grigory/anaconda3/envs/crf/include/python3.8/compile.h:5:0,\n",
      "                   from /home/grigory/anaconda3/envs/crf/include/python3.8/Python.h:138,\n",
      "                   from scrapely/_htmlpage.c:19:\n",
      "  /home/grigory/anaconda3/envs/crf/include/python3.8/code.h:122:28: note: declared here\n",
      "   PyAPI_FUNC(PyCodeObject *) PyCode_New(\n",
      "                              ^~~~~~~~~~\n",
      "  /home/grigory/anaconda3/envs/crf/include/python3.8/code.h:72:25: warning: passing argument 6 of ‘PyCode_New’ makes pointer from integer without a cast [-Wint-conversion]\n",
      "   #define CO_OPTIMIZED    0x0001\n",
      "                           ^\n",
      "  scrapely/_htmlpage.c:333:37: note: in definition of macro ‘__Pyx_PyCode_New’\n",
      "             PyCode_New(a, 0, k, l, s, f, code, c, n, v, fv, cell, fn, name, fline, lnos)\n",
      "                                       ^\n",
      "  scrapely/_htmlpage.c:8365:63: note: in expansion of macro ‘CO_OPTIMIZED’\n",
      "     __pyx_codeobj__24 = (PyObject*)__Pyx_PyCode_New(1, 0, 1, 0, CO_OPTIMIZED|CO_NEWLOCALS, __pyx_empty_bytes, __pyx_empty_tuple, __pyx_empty_tuple, __pyx_tuple__23, __pyx_empty_tuple, __pyx_empty_tuple, __pyx_kp_s_scrapely__htmlpage_pyx, __pyx_n_s_repr, 58, __pyx_empty_bytes); if (unlikely(!__pyx_codeobj__24)) __PYX_ERR(0, 58, __pyx_L1_error)\n",
      "                                                                 ^~~~~~~~~~~~\n",
      "  In file included from /home/grigory/anaconda3/envs/crf/include/python3.8/compile.h:5:0,\n",
      "                   from /home/grigory/anaconda3/envs/crf/include/python3.8/Python.h:138,\n",
      "                   from scrapely/_htmlpage.c:19:\n",
      "  /home/grigory/anaconda3/envs/crf/include/python3.8/code.h:122:28: note: expected ‘PyObject * {aka struct _object *}’ but argument is of type ‘int’\n",
      "   PyAPI_FUNC(PyCodeObject *) PyCode_New(\n",
      "                              ^~~~~~~~~~\n",
      "  scrapely/_htmlpage.c:8365:237: warning: passing argument 14 of ‘PyCode_New’ makes integer from pointer without a cast [-Wint-conversion]\n",
      "     __pyx_codeobj__24 = (PyObject*)__Pyx_PyCode_New(1, 0, 1, 0, CO_OPTIMIZED|CO_NEWLOCALS, __pyx_empty_bytes, __pyx_empty_tuple, __pyx_empty_tuple, __pyx_tuple__23, __pyx_empty_tuple, __pyx_empty_tuple, __pyx_kp_s_scrapely__htmlpage_pyx, __pyx_n_s_repr, 58, __pyx_empty_bytes); if (unlikely(!__pyx_codeobj__24)) __PYX_ERR(0, 58, __pyx_L1_error)\n",
      "                                                                                                                                                                                                                                               ^\n",
      "  scrapely/_htmlpage.c:333:69: note: in definition of macro ‘__Pyx_PyCode_New’\n",
      "             PyCode_New(a, 0, k, l, s, f, code, c, n, v, fv, cell, fn, name, fline, lnos)\n",
      "                                                                       ^~~~\n",
      "  In file included from /home/grigory/anaconda3/envs/crf/include/python3.8/compile.h:5:0,\n",
      "                   from /home/grigory/anaconda3/envs/crf/include/python3.8/Python.h:138,\n",
      "                   from scrapely/_htmlpage.c:19:\n",
      "  /home/grigory/anaconda3/envs/crf/include/python3.8/code.h:122:28: note: expected ‘int’ but argument is of type ‘PyObject * {aka struct _object *}’\n",
      "   PyAPI_FUNC(PyCodeObject *) PyCode_New(\n",
      "                              ^~~~~~~~~~\n",
      "  scrapely/_htmlpage.c:8365:253: warning: passing argument 15 of ‘PyCode_New’ makes pointer from integer without a cast [-Wint-conversion]\n",
      "     __pyx_codeobj__24 = (PyObject*)__Pyx_PyCode_New(1, 0, 1, 0, CO_OPTIMIZED|CO_NEWLOCALS, __pyx_empty_bytes, __pyx_empty_tuple, __pyx_empty_tuple, __pyx_tuple__23, __pyx_empty_tuple, __pyx_empty_tuple, __pyx_kp_s_scrapely__htmlpage_pyx, __pyx_n_s_repr, 58, __pyx_empty_bytes); if (unlikely(!__pyx_codeobj__24)) __PYX_ERR(0, 58, __pyx_L1_error)\n",
      "                                                                                                                                                                                                                                                               ^\n",
      "  scrapely/_htmlpage.c:333:75: note: in definition of macro ‘__Pyx_PyCode_New’\n",
      "             PyCode_New(a, 0, k, l, s, f, code, c, n, v, fv, cell, fn, name, fline, lnos)\n",
      "                                                                             ^~~~~\n",
      "  In file included from /home/grigory/anaconda3/envs/crf/include/python3.8/compile.h:5:0,\n",
      "                   from /home/grigory/anaconda3/envs/crf/include/python3.8/Python.h:138,\n",
      "                   from scrapely/_htmlpage.c:19:\n",
      "  /home/grigory/anaconda3/envs/crf/include/python3.8/code.h:122:28: note: expected ‘PyObject * {aka struct _object *}’ but argument is of type ‘int’\n",
      "   PyAPI_FUNC(PyCodeObject *) PyCode_New(\n",
      "                              ^~~~~~~~~~\n",
      "  scrapely/_htmlpage.c:333:11: error: too many arguments to function ‘PyCode_New’\n",
      "             PyCode_New(a, 0, k, l, s, f, code, c, n, v, fv, cell, fn, name, fline, lnos)\n",
      "             ^\n",
      "  scrapely/_htmlpage.c:8365:34: note: in expansion of macro ‘__Pyx_PyCode_New’\n",
      "     __pyx_codeobj__24 = (PyObject*)__Pyx_PyCode_New(1, 0, 1, 0, CO_OPTIMIZED|CO_NEWLOCALS, __pyx_empty_bytes, __pyx_empty_tuple, __pyx_empty_tuple, __pyx_tuple__23, __pyx_empty_tuple, __pyx_empty_tuple, __pyx_kp_s_scrapely__htmlpage_pyx, __pyx_n_s_repr, 58, __pyx_empty_bytes); if (unlikely(!__pyx_codeobj__24)) __PYX_ERR(0, 58, __pyx_L1_error)\n",
      "                                    ^~~~~~~~~~~~~~~~\n",
      "  In file included from /home/grigory/anaconda3/envs/crf/include/python3.8/compile.h:5:0,\n",
      "                   from /home/grigory/anaconda3/envs/crf/include/python3.8/Python.h:138,\n",
      "                   from scrapely/_htmlpage.c:19:\n",
      "  /home/grigory/anaconda3/envs/crf/include/python3.8/code.h:122:28: note: declared here\n",
      "   PyAPI_FUNC(PyCodeObject *) PyCode_New(\n",
      "                              ^~~~~~~~~~\n",
      "  /home/grigory/anaconda3/envs/crf/include/python3.8/code.h:72:25: warning: passing argument 6 of ‘PyCode_New’ makes pointer from integer without a cast [-Wint-conversion]\n",
      "   #define CO_OPTIMIZED    0x0001\n",
      "                           ^\n",
      "  scrapely/_htmlpage.c:333:37: note: in definition of macro ‘__Pyx_PyCode_New’\n",
      "             PyCode_New(a, 0, k, l, s, f, code, c, n, v, fv, cell, fn, name, fline, lnos)\n",
      "                                       ^\n",
      "  scrapely/_htmlpage.c:8375:63: note: in expansion of macro ‘CO_OPTIMIZED’\n",
      "     __pyx_codeobj__26 = (PyObject*)__Pyx_PyCode_New(3, 0, 5, 0, CO_OPTIMIZED|CO_NEWLOCALS, __pyx_empty_bytes, __pyx_empty_tuple, __pyx_empty_tuple, __pyx_tuple__25, __pyx_empty_tuple, __pyx_empty_tuple, __pyx_kp_s_stringsource, __pyx_n_s_pyx_unpickle_CommentParser, 1, __pyx_empty_bytes); if (unlikely(!__pyx_codeobj__26)) __PYX_ERR(1, 1, __pyx_L1_error)\n",
      "                                                                 ^~~~~~~~~~~~\n",
      "  In file included from /home/grigory/anaconda3/envs/crf/include/python3.8/compile.h:5:0,\n",
      "                   from /home/grigory/anaconda3/envs/crf/include/python3.8/Python.h:138,\n",
      "                   from scrapely/_htmlpage.c:19:\n",
      "  /home/grigory/anaconda3/envs/crf/include/python3.8/code.h:122:28: note: expected ‘PyObject * {aka struct _object *}’ but argument is of type ‘int’\n",
      "   PyAPI_FUNC(PyCodeObject *) PyCode_New(\n",
      "                              ^~~~~~~~~~\n",
      "  scrapely/_htmlpage.c:8375:227: warning: passing argument 14 of ‘PyCode_New’ makes integer from pointer without a cast [-Wint-conversion]\n",
      "     __pyx_codeobj__26 = (PyObject*)__Pyx_PyCode_New(3, 0, 5, 0, CO_OPTIMIZED|CO_NEWLOCALS, __pyx_empty_bytes, __pyx_empty_tuple, __pyx_empty_tuple, __pyx_tuple__25, __pyx_empty_tuple, __pyx_empty_tuple, __pyx_kp_s_stringsource, __pyx_n_s_pyx_unpickle_CommentParser, 1, __pyx_empty_bytes); if (unlikely(!__pyx_codeobj__26)) __PYX_ERR(1, 1, __pyx_L1_error)\n",
      "                                                                                                                                                                                                                                     ^\n",
      "  scrapely/_htmlpage.c:333:69: note: in definition of macro ‘__Pyx_PyCode_New’\n",
      "             PyCode_New(a, 0, k, l, s, f, code, c, n, v, fv, cell, fn, name, fline, lnos)\n",
      "                                                                       ^~~~\n",
      "  In file included from /home/grigory/anaconda3/envs/crf/include/python3.8/compile.h:5:0,\n",
      "                   from /home/grigory/anaconda3/envs/crf/include/python3.8/Python.h:138,\n",
      "                   from scrapely/_htmlpage.c:19:\n",
      "  /home/grigory/anaconda3/envs/crf/include/python3.8/code.h:122:28: note: expected ‘int’ but argument is of type ‘PyObject * {aka struct _object *}’\n",
      "   PyAPI_FUNC(PyCodeObject *) PyCode_New(\n",
      "                              ^~~~~~~~~~\n",
      "  scrapely/_htmlpage.c:8375:265: warning: passing argument 15 of ‘PyCode_New’ makes pointer from integer without a cast [-Wint-conversion]\n",
      "     __pyx_codeobj__26 = (PyObject*)__Pyx_PyCode_New(3, 0, 5, 0, CO_OPTIMIZED|CO_NEWLOCALS, __pyx_empty_bytes, __pyx_empty_tuple, __pyx_empty_tuple, __pyx_tuple__25, __pyx_empty_tuple, __pyx_empty_tuple, __pyx_kp_s_stringsource, __pyx_n_s_pyx_unpickle_CommentParser, 1, __pyx_empty_bytes); if (unlikely(!__pyx_codeobj__26)) __PYX_ERR(1, 1, __pyx_L1_error)\n",
      "                                                                                                                                                                                                                                                                           ^\n",
      "  scrapely/_htmlpage.c:333:75: note: in definition of macro ‘__Pyx_PyCode_New’\n",
      "             PyCode_New(a, 0, k, l, s, f, code, c, n, v, fv, cell, fn, name, fline, lnos)\n",
      "                                                                             ^~~~~\n",
      "  In file included from /home/grigory/anaconda3/envs/crf/include/python3.8/compile.h:5:0,\n",
      "                   from /home/grigory/anaconda3/envs/crf/include/python3.8/Python.h:138,\n",
      "                   from scrapely/_htmlpage.c:19:\n",
      "  /home/grigory/anaconda3/envs/crf/include/python3.8/code.h:122:28: note: expected ‘PyObject * {aka struct _object *}’ but argument is of type ‘int’\n",
      "   PyAPI_FUNC(PyCodeObject *) PyCode_New(\n",
      "                              ^~~~~~~~~~\n",
      "  scrapely/_htmlpage.c:333:11: error: too many arguments to function ‘PyCode_New’\n",
      "             PyCode_New(a, 0, k, l, s, f, code, c, n, v, fv, cell, fn, name, fline, lnos)\n",
      "             ^\n",
      "  scrapely/_htmlpage.c:8375:34: note: in expansion of macro ‘__Pyx_PyCode_New’\n",
      "     __pyx_codeobj__26 = (PyObject*)__Pyx_PyCode_New(3, 0, 5, 0, CO_OPTIMIZED|CO_NEWLOCALS, __pyx_empty_bytes, __pyx_empty_tuple, __pyx_empty_tuple, __pyx_tuple__25, __pyx_empty_tuple, __pyx_empty_tuple, __pyx_kp_s_stringsource, __pyx_n_s_pyx_unpickle_CommentParser, 1, __pyx_empty_bytes); if (unlikely(!__pyx_codeobj__26)) __PYX_ERR(1, 1, __pyx_L1_error)\n",
      "                                    ^~~~~~~~~~~~~~~~\n",
      "  In file included from /home/grigory/anaconda3/envs/crf/include/python3.8/compile.h:5:0,\n",
      "                   from /home/grigory/anaconda3/envs/crf/include/python3.8/Python.h:138,\n",
      "                   from scrapely/_htmlpage.c:19:\n",
      "  /home/grigory/anaconda3/envs/crf/include/python3.8/code.h:122:28: note: declared here\n",
      "   PyAPI_FUNC(PyCodeObject *) PyCode_New(\n",
      "                              ^~~~~~~~~~\n",
      "  /home/grigory/anaconda3/envs/crf/include/python3.8/code.h:72:25: warning: passing argument 6 of ‘PyCode_New’ makes pointer from integer without a cast [-Wint-conversion]\n",
      "   #define CO_OPTIMIZED    0x0001\n",
      "                           ^\n",
      "  scrapely/_htmlpage.c:333:37: note: in definition of macro ‘__Pyx_PyCode_New’\n",
      "             PyCode_New(a, 0, k, l, s, f, code, c, n, v, fv, cell, fn, name, fline, lnos)\n",
      "                                       ^\n",
      "  scrapely/_htmlpage.c:8379:63: note: in expansion of macro ‘CO_OPTIMIZED’\n",
      "     __pyx_codeobj__28 = (PyObject*)__Pyx_PyCode_New(3, 0, 5, 0, CO_OPTIMIZED|CO_NEWLOCALS, __pyx_empty_bytes, __pyx_empty_tuple, __pyx_empty_tuple, __pyx_tuple__27, __pyx_empty_tuple, __pyx_empty_tuple, __pyx_kp_s_stringsource, __pyx_n_s_pyx_unpickle_ScriptParser, 1, __pyx_empty_bytes); if (unlikely(!__pyx_codeobj__28)) __PYX_ERR(1, 1, __pyx_L1_error)\n",
      "                                                                 ^~~~~~~~~~~~\n",
      "  In file included from /home/grigory/anaconda3/envs/crf/include/python3.8/compile.h:5:0,\n",
      "                   from /home/grigory/anaconda3/envs/crf/include/python3.8/Python.h:138,\n",
      "                   from scrapely/_htmlpage.c:19:\n",
      "  /home/grigory/anaconda3/envs/crf/include/python3.8/code.h:122:28: note: expected ‘PyObject * {aka struct _object *}’ but argument is of type ‘int’\n",
      "   PyAPI_FUNC(PyCodeObject *) PyCode_New(\n",
      "                              ^~~~~~~~~~\n",
      "  scrapely/_htmlpage.c:8379:227: warning: passing argument 14 of ‘PyCode_New’ makes integer from pointer without a cast [-Wint-conversion]\n",
      "     __pyx_codeobj__28 = (PyObject*)__Pyx_PyCode_New(3, 0, 5, 0, CO_OPTIMIZED|CO_NEWLOCALS, __pyx_empty_bytes, __pyx_empty_tuple, __pyx_empty_tuple, __pyx_tuple__27, __pyx_empty_tuple, __pyx_empty_tuple, __pyx_kp_s_stringsource, __pyx_n_s_pyx_unpickle_ScriptParser, 1, __pyx_empty_bytes); if (unlikely(!__pyx_codeobj__28)) __PYX_ERR(1, 1, __pyx_L1_error)\n",
      "                                                                                                                                                                                                                                     ^\n",
      "  scrapely/_htmlpage.c:333:69: note: in definition of macro ‘__Pyx_PyCode_New’\n",
      "             PyCode_New(a, 0, k, l, s, f, code, c, n, v, fv, cell, fn, name, fline, lnos)\n",
      "                                                                       ^~~~\n",
      "  In file included from /home/grigory/anaconda3/envs/crf/include/python3.8/compile.h:5:0,\n",
      "                   from /home/grigory/anaconda3/envs/crf/include/python3.8/Python.h:138,\n",
      "                   from scrapely/_htmlpage.c:19:\n",
      "  /home/grigory/anaconda3/envs/crf/include/python3.8/code.h:122:28: note: expected ‘int’ but argument is of type ‘PyObject * {aka struct _object *}’\n",
      "   PyAPI_FUNC(PyCodeObject *) PyCode_New(\n",
      "                              ^~~~~~~~~~\n",
      "  scrapely/_htmlpage.c:8379:264: warning: passing argument 15 of ‘PyCode_New’ makes pointer from integer without a cast [-Wint-conversion]\n",
      "     __pyx_codeobj__28 = (PyObject*)__Pyx_PyCode_New(3, 0, 5, 0, CO_OPTIMIZED|CO_NEWLOCALS, __pyx_empty_bytes, __pyx_empty_tuple, __pyx_empty_tuple, __pyx_tuple__27, __pyx_empty_tuple, __pyx_empty_tuple, __pyx_kp_s_stringsource, __pyx_n_s_pyx_unpickle_ScriptParser, 1, __pyx_empty_bytes); if (unlikely(!__pyx_codeobj__28)) __PYX_ERR(1, 1, __pyx_L1_error)\n",
      "                                                                                                                                                                                                                                                                          ^\n",
      "  scrapely/_htmlpage.c:333:75: note: in definition of macro ‘__Pyx_PyCode_New’\n",
      "             PyCode_New(a, 0, k, l, s, f, code, c, n, v, fv, cell, fn, name, fline, lnos)\n",
      "                                                                             ^~~~~\n",
      "  In file included from /home/grigory/anaconda3/envs/crf/include/python3.8/compile.h:5:0,\n",
      "                   from /home/grigory/anaconda3/envs/crf/include/python3.8/Python.h:138,\n",
      "                   from scrapely/_htmlpage.c:19:\n",
      "  /home/grigory/anaconda3/envs/crf/include/python3.8/code.h:122:28: note: expected ‘PyObject * {aka struct _object *}’ but argument is of type ‘int’\n",
      "   PyAPI_FUNC(PyCodeObject *) PyCode_New(\n",
      "                              ^~~~~~~~~~\n",
      "  scrapely/_htmlpage.c:333:11: error: too many arguments to function ‘PyCode_New’\n",
      "             PyCode_New(a, 0, k, l, s, f, code, c, n, v, fv, cell, fn, name, fline, lnos)\n",
      "             ^\n",
      "  scrapely/_htmlpage.c:8379:34: note: in expansion of macro ‘__Pyx_PyCode_New’\n",
      "     __pyx_codeobj__28 = (PyObject*)__Pyx_PyCode_New(3, 0, 5, 0, CO_OPTIMIZED|CO_NEWLOCALS, __pyx_empty_bytes, __pyx_empty_tuple, __pyx_empty_tuple, __pyx_tuple__27, __pyx_empty_tuple, __pyx_empty_tuple, __pyx_kp_s_stringsource, __pyx_n_s_pyx_unpickle_ScriptParser, 1, __pyx_empty_bytes); if (unlikely(!__pyx_codeobj__28)) __PYX_ERR(1, 1, __pyx_L1_error)\n",
      "                                    ^~~~~~~~~~~~~~~~\n",
      "  In file included from /home/grigory/anaconda3/envs/crf/include/python3.8/compile.h:5:0,\n",
      "                   from /home/grigory/anaconda3/envs/crf/include/python3.8/Python.h:138,\n",
      "                   from scrapely/_htmlpage.c:19:\n",
      "  /home/grigory/anaconda3/envs/crf/include/python3.8/code.h:122:28: note: declared here\n",
      "   PyAPI_FUNC(PyCodeObject *) PyCode_New(\n",
      "                              ^~~~~~~~~~\n",
      "  scrapely/_htmlpage.c: In function ‘__Pyx_CreateCodeObjectForTraceback’:\n",
      "  scrapely/_htmlpage.c:11455:9: warning: passing argument 14 of ‘PyCode_New’ makes integer from pointer without a cast [-Wint-conversion]\n",
      "           py_funcname,  /*PyObject *name,*/\n",
      "           ^\n",
      "  scrapely/_htmlpage.c:333:69: note: in definition of macro ‘__Pyx_PyCode_New’\n",
      "             PyCode_New(a, 0, k, l, s, f, code, c, n, v, fv, cell, fn, name, fline, lnos)\n",
      "                                                                       ^~~~\n",
      "  In file included from /home/grigory/anaconda3/envs/crf/include/python3.8/compile.h:5:0,\n",
      "                   from /home/grigory/anaconda3/envs/crf/include/python3.8/Python.h:138,\n",
      "                   from scrapely/_htmlpage.c:19:\n",
      "  /home/grigory/anaconda3/envs/crf/include/python3.8/code.h:122:28: note: expected ‘int’ but argument is of type ‘PyObject * {aka struct _object *}’\n",
      "   PyAPI_FUNC(PyCodeObject *) PyCode_New(\n",
      "                              ^~~~~~~~~~\n",
      "  scrapely/_htmlpage.c:11456:9: warning: passing argument 15 of ‘PyCode_New’ makes pointer from integer without a cast [-Wint-conversion]\n",
      "           py_line,\n",
      "           ^\n",
      "  scrapely/_htmlpage.c:333:75: note: in definition of macro ‘__Pyx_PyCode_New’\n",
      "             PyCode_New(a, 0, k, l, s, f, code, c, n, v, fv, cell, fn, name, fline, lnos)\n",
      "                                                                             ^~~~~\n",
      "  In file included from /home/grigory/anaconda3/envs/crf/include/python3.8/compile.h:5:0,\n",
      "                   from /home/grigory/anaconda3/envs/crf/include/python3.8/Python.h:138,\n",
      "                   from scrapely/_htmlpage.c:19:\n",
      "  /home/grigory/anaconda3/envs/crf/include/python3.8/code.h:122:28: note: expected ‘PyObject * {aka struct _object *}’ but argument is of type ‘int’\n",
      "   PyAPI_FUNC(PyCodeObject *) PyCode_New(\n",
      "                              ^~~~~~~~~~\n",
      "  scrapely/_htmlpage.c:333:11: error: too many arguments to function ‘PyCode_New’\n",
      "             PyCode_New(a, 0, k, l, s, f, code, c, n, v, fv, cell, fn, name, fline, lnos)\n",
      "             ^\n",
      "  scrapely/_htmlpage.c:11442:15: note: in expansion of macro ‘__Pyx_PyCode_New’\n",
      "       py_code = __Pyx_PyCode_New(\n",
      "                 ^~~~~~~~~~~~~~~~\n",
      "  In file included from /home/grigory/anaconda3/envs/crf/include/python3.8/compile.h:5:0,\n",
      "                   from /home/grigory/anaconda3/envs/crf/include/python3.8/Python.h:138,\n",
      "                   from scrapely/_htmlpage.c:19:\n",
      "  /home/grigory/anaconda3/envs/crf/include/python3.8/code.h:122:28: note: declared here\n",
      "   PyAPI_FUNC(PyCodeObject *) PyCode_New(\n",
      "                              ^~~~~~~~~~\n",
      "  error: command 'gcc' failed with exit status 1\n",
      "  ----------------------------------------\u001b[0m\n",
      "\u001b[31m  ERROR: Failed building wheel for scrapely\u001b[0m\n",
      "\u001b[?25h  Running setup.py clean for scrapely\n"
     ]
    }
   ],
   "source": [
    "!pip install scrapely"
   ]
  },
  {
   "cell_type": "code",
   "execution_count": 5,
   "id": "97c2a3f2",
   "metadata": {},
   "outputs": [
    {
     "ename": "ModuleNotFoundError",
     "evalue": "No module named 'scrapely'",
     "output_type": "error",
     "traceback": [
      "\u001b[0;31m---------------------------------------------------------------------------\u001b[0m",
      "\u001b[0;31mModuleNotFoundError\u001b[0m                       Traceback (most recent call last)",
      "\u001b[0;32m<ipython-input-5-5ccce1d06722>\u001b[0m in \u001b[0;36m<module>\u001b[0;34m\u001b[0m\n\u001b[0;32m----> 1\u001b[0;31m \u001b[0;32mimport\u001b[0m \u001b[0mscrapely\u001b[0m\u001b[0;34m\u001b[0m\u001b[0;34m\u001b[0m\u001b[0m\n\u001b[0m",
      "\u001b[0;31mModuleNotFoundError\u001b[0m: No module named 'scrapely'"
     ]
    }
   ],
   "source": [
    "import scrapely"
   ]
  },
  {
   "cell_type": "code",
   "execution_count": 3,
   "id": "999cdefb",
   "metadata": {},
   "outputs": [],
   "source": [
    "from scrapely import Scraper\n",
    "s = Scraper()\n"
   ]
  },
  {
   "cell_type": "code",
   "execution_count": 17,
   "id": "94220e97",
   "metadata": {},
   "outputs": [],
   "source": [
    "url1 = 'http://pypi.python.org/pypi/w3lib/1.1'\n",
    "data = {'name': 'w3lib 1.1', 'author': 'Scrapy project', 'description': 'Library of web-related functions'}\n",
    "s.train(url1, data)"
   ]
  },
  {
   "cell_type": "code",
   "execution_count": 20,
   "id": "22bcad98",
   "metadata": {},
   "outputs": [
    {
     "data": {
      "text/plain": [
       "[{'author': ['Django Software Foundation &lt;foundation at djangoproject com&gt;'],\n",
       "  'description': ['A high-level Python Web framework that encourages rapid development and clean, pragmatic design.'],\n",
       "  'name': ['Django 1.3']}]"
      ]
     },
     "execution_count": 20,
     "metadata": {},
     "output_type": "execute_result"
    }
   ],
   "source": [
    "url2 = 'http://pypi.python.org/pypi/Django/1.3'\n",
    "s.scrape(url2)\n",
    "# [{u'author': [u'Django Software Foundation &lt;foundation at djangoproject com&gt;'],\n",
    "#   u'description': [u'A high-level Python Web framework that encourages rapid development and clean, pragmatic design.'],\n",
    "#   u'name': [u'Django 1.3']}]"
   ]
  },
  {
   "cell_type": "code",
   "execution_count": 24,
   "id": "3cf35614",
   "metadata": {},
   "outputs": [],
   "source": [
    "!pip install pymongo>/dev/null\n",
    "!pip install loguru>/dev/null"
   ]
  },
  {
   "cell_type": "code",
   "execution_count": 30,
   "id": "4b5a8f89",
   "metadata": {},
   "outputs": [],
   "source": [
    "import sys\n",
    "sys.path.insert(0, '/home/grigory/personal/items_crawler/')\n",
    "from src.mongo_conn import MongoConn\n",
    "import json\n",
    "from scrapely import best_match\n"
   ]
  },
  {
   "cell_type": "code",
   "execution_count": 37,
   "id": "d8879e98",
   "metadata": {},
   "outputs": [
    {
     "name": "stderr",
     "output_type": "stream",
     "text": [
      "2021-06-03 20:13:32.724 | DEBUG    | src.mongo_conn:get_collection:13 - Open connection\n"
     ]
    }
   ],
   "source": [
    "CONFIG_PATH='/home/grigory/personal/items_crawler/configs/config.json'\n",
    "with open(CONFIG_PATH, 'r') as f:\n",
    "    config = json.load(f)['mongo']\n",
    "config['collection'] = 'prod'\n",
    "mongo_conn = MongoConn(config)\n",
    "collection = mongo_conn.get_collection()"
   ]
  },
  {
   "cell_type": "code",
   "execution_count": 58,
   "id": "2847abee",
   "metadata": {},
   "outputs": [],
   "source": [
    "url = 'https://topliba.com/books/505386'\n",
    "doc = collection.find_one({'_id': url})\n",
    "page_body = doc['dynamic']['page_html']"
   ]
  },
  {
   "cell_type": "code",
   "execution_count": 86,
   "id": "1da67502",
   "metadata": {},
   "outputs": [
    {
     "data": {
      "text/plain": [
       "['        <rating class=\"pull-left\"  _rating=\"0\" _showAvgRating=\"true\" _showAvgRatingText=\"true\" _avgRating=\"5.00\" _ratingsNumber=\"1\" _user=\"\" _url=\"/books/505386/ratings\"></rating>',\n",
       " '        <meta itemprop=\"ratingValue\" content=\"5.00\"/>']"
      ]
     },
     "execution_count": 86,
     "metadata": {},
     "output_type": "execute_result"
    }
   ],
   "source": [
    "import requests\n",
    "\n",
    "[l for l in requests.get(url).content.decode('utf-8').split('\\n') if '5.00' in l]"
   ]
  },
  {
   "cell_type": "code",
   "execution_count": 30,
   "id": "2a1d0cf2",
   "metadata": {},
   "outputs": [
    {
     "ename": "FragmentNotFound",
     "evalue": "Fragment not found annotating 'series' using: <function best_match.<locals>.func at 0x7f0978a7c4d0>",
     "output_type": "error",
     "traceback": [
      "\u001b[0;31m---------------------------------------------------------------------------\u001b[0m",
      "\u001b[0;31mFragmentNotFound\u001b[0m                          Traceback (most recent call last)",
      "\u001b[0;32m<ipython-input-30-095ed5b6bc7e>\u001b[0m in \u001b[0;36m<module>\u001b[0;34m\u001b[0m\n\u001b[1;32m     22\u001b[0m              }\n\u001b[1;32m     23\u001b[0m \u001b[0murl3\u001b[0m \u001b[0;34m=\u001b[0m \u001b[0;34m'https://topliba.com/books/721277'\u001b[0m\u001b[0;34m\u001b[0m\u001b[0;34m\u001b[0m\u001b[0m\n\u001b[0;32m---> 24\u001b[0;31m \u001b[0ms\u001b[0m\u001b[0;34m.\u001b[0m\u001b[0mtrain\u001b[0m\u001b[0;34m(\u001b[0m\u001b[0murl3\u001b[0m\u001b[0;34m,\u001b[0m \u001b[0mtrain_dict\u001b[0m\u001b[0;34m)\u001b[0m\u001b[0;34m\u001b[0m\u001b[0;34m\u001b[0m\u001b[0m\n\u001b[0m\u001b[1;32m     25\u001b[0m \u001b[0;34m\u001b[0m\u001b[0m\n\u001b[1;32m     26\u001b[0m \u001b[0;31m# best_match('kek')\u001b[0m\u001b[0;34m\u001b[0m\u001b[0;34m\u001b[0m\u001b[0;34m\u001b[0m\u001b[0m\n",
      "\u001b[0;32m~/anaconda3/envs/crf37/lib/python3.7/site-packages/scrapely/__init__.py\u001b[0m in \u001b[0;36mtrain\u001b[0;34m(self, url, data, encoding)\u001b[0m\n\u001b[1;32m     47\u001b[0m     \u001b[0;32mdef\u001b[0m \u001b[0mtrain\u001b[0m\u001b[0;34m(\u001b[0m\u001b[0mself\u001b[0m\u001b[0;34m,\u001b[0m \u001b[0murl\u001b[0m\u001b[0;34m,\u001b[0m \u001b[0mdata\u001b[0m\u001b[0;34m,\u001b[0m \u001b[0mencoding\u001b[0m\u001b[0;34m=\u001b[0m\u001b[0;32mNone\u001b[0m\u001b[0;34m)\u001b[0m\u001b[0;34m:\u001b[0m\u001b[0;34m\u001b[0m\u001b[0;34m\u001b[0m\u001b[0m\n\u001b[1;32m     48\u001b[0m         \u001b[0mpage\u001b[0m \u001b[0;34m=\u001b[0m \u001b[0murl_to_page\u001b[0m\u001b[0;34m(\u001b[0m\u001b[0murl\u001b[0m\u001b[0;34m,\u001b[0m \u001b[0mencoding\u001b[0m\u001b[0;34m)\u001b[0m\u001b[0;34m\u001b[0m\u001b[0;34m\u001b[0m\u001b[0m\n\u001b[0;32m---> 49\u001b[0;31m         \u001b[0mself\u001b[0m\u001b[0;34m.\u001b[0m\u001b[0mtrain_from_htmlpage\u001b[0m\u001b[0;34m(\u001b[0m\u001b[0mpage\u001b[0m\u001b[0;34m,\u001b[0m \u001b[0mdata\u001b[0m\u001b[0;34m)\u001b[0m\u001b[0;34m\u001b[0m\u001b[0;34m\u001b[0m\u001b[0m\n\u001b[0m\u001b[1;32m     50\u001b[0m \u001b[0;34m\u001b[0m\u001b[0m\n\u001b[1;32m     51\u001b[0m     \u001b[0;32mdef\u001b[0m \u001b[0mscrape\u001b[0m\u001b[0;34m(\u001b[0m\u001b[0mself\u001b[0m\u001b[0;34m,\u001b[0m \u001b[0murl\u001b[0m\u001b[0;34m,\u001b[0m \u001b[0mencoding\u001b[0m\u001b[0;34m=\u001b[0m\u001b[0;32mNone\u001b[0m\u001b[0;34m)\u001b[0m\u001b[0;34m:\u001b[0m\u001b[0;34m\u001b[0m\u001b[0;34m\u001b[0m\u001b[0m\n",
      "\u001b[0;32m~/anaconda3/envs/crf37/lib/python3.7/site-packages/scrapely/__init__.py\u001b[0m in \u001b[0;36mtrain_from_htmlpage\u001b[0;34m(self, htmlpage, data)\u001b[0m\n\u001b[1;32m     42\u001b[0m             \u001b[0;32mfor\u001b[0m \u001b[0mvalue\u001b[0m \u001b[0;32min\u001b[0m \u001b[0mvalues\u001b[0m\u001b[0;34m:\u001b[0m\u001b[0;34m\u001b[0m\u001b[0;34m\u001b[0m\u001b[0m\n\u001b[1;32m     43\u001b[0m                 \u001b[0mvalue\u001b[0m \u001b[0;34m=\u001b[0m \u001b[0mstr_to_unicode\u001b[0m\u001b[0;34m(\u001b[0m\u001b[0mvalue\u001b[0m\u001b[0;34m,\u001b[0m \u001b[0mhtmlpage\u001b[0m\u001b[0;34m.\u001b[0m\u001b[0mencoding\u001b[0m\u001b[0;34m)\u001b[0m\u001b[0;34m\u001b[0m\u001b[0;34m\u001b[0m\u001b[0m\n\u001b[0;32m---> 44\u001b[0;31m                 \u001b[0mtm\u001b[0m\u001b[0;34m.\u001b[0m\u001b[0mannotate\u001b[0m\u001b[0;34m(\u001b[0m\u001b[0mfield\u001b[0m\u001b[0;34m,\u001b[0m \u001b[0mbest_match\u001b[0m\u001b[0;34m(\u001b[0m\u001b[0mvalue\u001b[0m\u001b[0;34m)\u001b[0m\u001b[0;34m)\u001b[0m\u001b[0;34m\u001b[0m\u001b[0;34m\u001b[0m\u001b[0m\n\u001b[0m\u001b[1;32m     45\u001b[0m         \u001b[0mself\u001b[0m\u001b[0;34m.\u001b[0m\u001b[0madd_template\u001b[0m\u001b[0;34m(\u001b[0m\u001b[0mtm\u001b[0m\u001b[0;34m.\u001b[0m\u001b[0mget_template\u001b[0m\u001b[0;34m(\u001b[0m\u001b[0;34m)\u001b[0m\u001b[0;34m)\u001b[0m\u001b[0;34m\u001b[0m\u001b[0;34m\u001b[0m\u001b[0m\n\u001b[1;32m     46\u001b[0m \u001b[0;34m\u001b[0m\u001b[0m\n",
      "\u001b[0;32m~/anaconda3/envs/crf37/lib/python3.7/site-packages/scrapely/template.py\u001b[0m in \u001b[0;36mannotate\u001b[0;34m(self, field, score_func, best_match)\u001b[0m\n\u001b[1;32m     38\u001b[0m         \u001b[0;32mif\u001b[0m \u001b[0;32mnot\u001b[0m \u001b[0mindexes\u001b[0m\u001b[0;34m:\u001b[0m\u001b[0;34m\u001b[0m\u001b[0;34m\u001b[0m\u001b[0m\n\u001b[1;32m     39\u001b[0m             raise FragmentNotFound(\"Fragment not found annotating %r using: %s\" %\n\u001b[0;32m---> 40\u001b[0;31m                 (field, score_func))\n\u001b[0m\u001b[1;32m     41\u001b[0m         \u001b[0;32mif\u001b[0m \u001b[0mbest_match\u001b[0m\u001b[0;34m:\u001b[0m\u001b[0;34m\u001b[0m\u001b[0;34m\u001b[0m\u001b[0m\n\u001b[1;32m     42\u001b[0m             \u001b[0;32mdel\u001b[0m \u001b[0mindexes\u001b[0m\u001b[0;34m[\u001b[0m\u001b[0;36m1\u001b[0m\u001b[0;34m:\u001b[0m\u001b[0;34m]\u001b[0m\u001b[0;34m\u001b[0m\u001b[0;34m\u001b[0m\u001b[0m\n",
      "\u001b[0;31mFragmentNotFound\u001b[0m: Fragment not found annotating 'series' using: <function best_match.<locals>.func at 0x7f0978a7c4d0>"
     ]
    }
   ],
   "source": [
    "s = Scraper()\n",
    "\n",
    "url1 = 'https://topliba.com/books/505386'\n",
    "train_dict = {'title': 'Не родись заклинательницей', \n",
    "              'author': 'Марина Котлова',\n",
    "              'category':['Фэнтези'],\n",
    "              'pages': '371 стр',\n",
    "              'rating':'5.00',}\n",
    "s.train(url1, train_dict)\n",
    "train_dict = {'title': 'Иванова, на пересдачу!', \n",
    "              'author': 'Татьяна Новикова',\n",
    "              'rating':'4.35',\n",
    "              'publish_date': '2020'}\n",
    "url2 = 'https://topliba.com/books/776174'\n",
    "s.train(url2, train_dict)\n",
    "\n",
    "train_dict = {'title': 'Лекарки тоже воюют', \n",
    "              'author': 'Инга Ветреная',\n",
    "              'rating':'3.89',\n",
    "              'category': ['Любовная фантастика', 'Самиздат, сетевая литература'],\n",
    "              'series': 'col-lgta'\n",
    "             }\n",
    "url3 = 'https://topliba.com/books/721277'\n",
    "s.train(url3, train_dict)\n",
    "\n",
    "# best_match('kek')"
   ]
  },
  {
   "cell_type": "code",
   "execution_count": 29,
   "id": "3bac64ec",
   "metadata": {},
   "outputs": [
    {
     "data": {
      "text/plain": [
       "[{'author': ['Владимир Котельников'],\n",
       "  'title': ['Транспортный самолет Юнкерс Ju 52/3m']}]"
      ]
     },
     "execution_count": 29,
     "metadata": {},
     "output_type": "execute_result"
    }
   ],
   "source": [
    "url2 = 'https://topliba.com/books/505385'\n",
    "s.scrape(url2)"
   ]
  }
 ],
 "metadata": {
  "kernelspec": {
   "display_name": "Python 3",
   "language": "python",
   "name": "python3"
  },
  "language_info": {
   "codemirror_mode": {
    "name": "ipython",
    "version": 3
   },
   "file_extension": ".py",
   "mimetype": "text/x-python",
   "name": "python",
   "nbconvert_exporter": "python",
   "pygments_lexer": "ipython3",
   "version": "3.7.4"
  },
  "toc": {
   "base_numbering": 1,
   "nav_menu": {},
   "number_sections": true,
   "sideBar": true,
   "skip_h1_title": false,
   "title_cell": "Table of Contents",
   "title_sidebar": "Contents",
   "toc_cell": false,
   "toc_position": {},
   "toc_section_display": true,
   "toc_window_display": false
  }
 },
 "nbformat": 4,
 "nbformat_minor": 5
}
